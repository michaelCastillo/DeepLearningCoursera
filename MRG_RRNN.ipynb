{
  "nbformat": 4,
  "nbformat_minor": 0,
  "metadata": {
    "colab": {
      "name": "MRG_RRNN.ipynb",
      "provenance": [],
      "collapsed_sections": [
        "CVf-pRuokU34",
        "V8y38EMkmR60"
      ],
      "include_colab_link": true
    },
    "kernelspec": {
      "name": "python3",
      "display_name": "Python 3"
    },
    "language_info": {
      "name": "python"
    },
    "accelerator": "GPU"
  },
  "cells": [
    {
      "cell_type": "markdown",
      "metadata": {
        "id": "view-in-github",
        "colab_type": "text"
      },
      "source": [
        "<a href=\"https://colab.research.google.com/github/michaelCastillo/DeepLearningCoursera/blob/master/MRG_RRNN.ipynb\" target=\"_parent\"><img src=\"https://colab.research.google.com/assets/colab-badge.svg\" alt=\"Open In Colab\"/></a>"
      ]
    },
    {
      "cell_type": "markdown",
      "source": [
        "# LSTM HH-model"
      ],
      "metadata": {
        "id": "PHvaJ3K4osgi"
      }
    },
    {
      "cell_type": "code",
      "execution_count": 106,
      "metadata": {
        "id": "fu7KvUi3omNT"
      },
      "outputs": [],
      "source": [
        ""
      ]
    },
    {
      "cell_type": "code",
      "source": [
        "from google.colab import drive\n",
        "drive.mount('/content/drive')\n",
        "!cd drive\n"
      ],
      "metadata": {
        "colab": {
          "base_uri": "https://localhost:8080/"
        },
        "id": "DvU-PnlH6yuj",
        "outputId": "e3a0b43d-9146-410e-c9d4-4255a34ef7b5"
      },
      "execution_count": 107,
      "outputs": [
        {
          "output_type": "stream",
          "name": "stdout",
          "text": [
            "Drive already mounted at /content/drive; to attempt to forcibly remount, call drive.mount(\"/content/drive\", force_remount=True).\n",
            "/bin/bash: line 0: cd: drive: No such file or directory\n"
          ]
        }
      ]
    },
    {
      "cell_type": "markdown",
      "metadata": {
        "id": "YHcTLY5BhgMm"
      },
      "source": [
        "**Note:** This notebook can run using TensorFlow 2.5.0"
      ]
    },
    {
      "cell_type": "code",
      "metadata": {
        "cellView": "both",
        "id": "D1J15Vh_1Jih",
        "colab": {
          "base_uri": "https://localhost:8080/"
        },
        "outputId": "1de7cbbe-e5e0-4677-bf9e-61441e4fc67e"
      },
      "source": [
        "#To be used in case of new environment\n",
        "#!pip install tensorflow==2.5.0\n",
        "#!pip install pandas\n",
        "!pip install neuron\n",
        "%cd \"/content/drive/Shareddrives/ProjectoTesis/Code/Tesis_rrnn_neurosiml/src\""
      ],
      "execution_count": 108,
      "outputs": [
        {
          "output_type": "stream",
          "name": "stdout",
          "text": [
            "Requirement already satisfied: neuron in /usr/local/lib/python3.7/dist-packages (8.0.2)\n",
            "Requirement already satisfied: numpy>=1.9.3 in /usr/local/lib/python3.7/dist-packages (from neuron) (1.21.5)\n",
            "/content/drive/Shareddrives/ProjectoTesis/Code/Tesis_rrnn_neurosiml/src\n"
          ]
        }
      ]
    },
    {
      "cell_type": "code",
      "metadata": {
        "id": "BOjujz601HcS",
        "colab": {
          "base_uri": "https://localhost:8080/"
        },
        "outputId": "ad6b12a1-066d-4aef-85a6-4f1bf15496ba"
      },
      "source": [
        "import tensorflow as tf\n",
        "import numpy as np\n",
        "import matplotlib.pyplot as plt\n",
        "print(tf.__version__)\n",
        "from pandas import read_csv\n",
        "import time\n",
        "import os\n",
        "import datetime\n",
        "\n",
        "import IPython\n",
        "import IPython.display\n",
        "import matplotlib as mpl\n",
        "import pandas as pd\n",
        "import seaborn as sns"
      ],
      "execution_count": 109,
      "outputs": [
        {
          "output_type": "stream",
          "name": "stdout",
          "text": [
            "2.8.0\n"
          ]
        }
      ]
    },
    {
      "cell_type": "code",
      "source": [
        "class WindowGenerator():\n",
        "  def __init__(self, input_width, label_width, shift,\n",
        "               train_df, val_df, test_df,\n",
        "               label_columns=None):\n",
        "    # Store the raw data.\n",
        "    self.train_df = train_df\n",
        "    self.val_df = val_df\n",
        "    self.test_df = test_df\n",
        "\n",
        "    # Work out the label column indices.\n",
        "    self.label_columns = label_columns\n",
        "    if label_columns is not None:\n",
        "      self.label_columns_indices = {name: i for i, name in\n",
        "                                    enumerate(label_columns)}\n",
        "    self.column_indices = {name: i for i, name in\n",
        "                           enumerate(train_df.columns)}\n",
        "\n",
        "    # Work out the window parameters.\n",
        "    self.input_width = input_width\n",
        "    self.label_width = label_width\n",
        "    self.shift = shift\n",
        "\n",
        "    self.total_window_size = input_width + shift\n",
        "\n",
        "    self.input_slice = slice(0, input_width)\n",
        "    self.input_indices = np.arange(self.total_window_size)[self.input_slice]\n",
        "\n",
        "    self.label_start = self.total_window_size - self.label_width\n",
        "    self.labels_slice = slice(self.label_start, None)\n",
        "    self.label_indices = np.arange(self.total_window_size)[self.labels_slice]\n",
        "\n",
        "  def __repr__(self):\n",
        "    return '\\n'.join([\n",
        "        f'Total window size: {self.total_window_size}',\n",
        "        f'Input indices: {self.input_indices}',\n",
        "        f'Label indices: {self.label_indices}',\n",
        "        f'Label column name(s): {self.label_columns}'])\n",
        "  def split_window(self, features):\n",
        "    inputs = features[:, self.input_slice, :]\n",
        "    labels = features[:, self.labels_slice, :]\n",
        "    self.completeLabels = labels #to save all the information but splitted.\n",
        "    if self.label_columns is not None:\n",
        "      labels = tf.stack(\n",
        "          [labels[:, :, self.column_indices[name]] for name in self.label_columns],\n",
        "          axis=-1)\n",
        "\n",
        "    # Slicing doesn't preserve static shape information, so set the shapes\n",
        "    # manually. This way the `tf.data.Datasets` are easier to inspect.\n",
        "    inputs.set_shape([None, self.input_width, None])\n",
        "    labels.set_shape([None, self.label_width, None])\n",
        "\n",
        "    return inputs, labels\n",
        "  \n",
        "  def make_dataset(self, data):\n",
        "    data = np.array(data, dtype=np.float32)\n",
        "    print(len(data))\n",
        "    ds = tf.keras.utils.timeseries_dataset_from_array(\n",
        "        data=data,\n",
        "        targets=None,\n",
        "        sequence_length=self.total_window_size,\n",
        "        sequence_stride=1,\n",
        "        shuffle=False,\n",
        "        batch_size=32,)\n",
        "    print(len(list(ds)))\n",
        "    print(len(list(ds))*128)\n",
        "    ds = ds.map(self.split_window)\n",
        "    return ds\n",
        "\n",
        "  @property\n",
        "  def train(self):\n",
        "    return self.make_dataset(self.train_df)\n",
        "\n",
        "  @property\n",
        "  def val(self):\n",
        "    return self.make_dataset(self.val_df)\n",
        "\n",
        "  @property\n",
        "  def test(self):\n",
        "    return self.make_dataset(self.test_df)\n",
        "\n",
        "\n",
        "  @property\n",
        "  def example(self):\n",
        "    \"\"\"Get and cache an example batch of `inputs, labels` for plotting.\"\"\"\n",
        "    result = getattr(self, '_example', None)\n",
        "    if result is None:\n",
        "      # No example batch was found, so get one from the `.train` dataset\n",
        "      result = next(iter(self.train))\n",
        "      # And cache it for next time\n",
        "      self._example = result\n",
        "    return result\n",
        "\n",
        "\n",
        "\n",
        "  def plot(self, model=None, plot_col='vm', max_subplots=3):\n",
        "    inputs, labels = self.example\n",
        "    inputs, labels = self.example\n",
        "    plt.figure(figsize=(12, 8))\n",
        "    plot_col_index = self.column_indices[plot_col]\n",
        "    stimuliIndex = self.column_indices[\"stimuli_vm\"]\n",
        "    max_n = min(max_subplots, len(inputs))\n",
        "    print(max_n)\n",
        "    for n in range(max_n):\n",
        "      plt.subplot(max_n, 1, n+1)\n",
        "      plt.ylabel(f'{plot_col} [normed]')\n",
        "      plt.plot(self.input_indices, inputs[n, :, plot_col_index],\n",
        "              label='Inputs', marker='.', zorder=-10)\n",
        "      plt.plot(self.input_indices, inputs[n, :, stimuliIndex]*200-80,\n",
        "              label='Inputs', marker='.', zorder=-10)\n",
        "      \n",
        "      \n",
        "      if self.label_columns:\n",
        "        label_col_index = self.label_columns_indices.get(plot_col, None)\n",
        "      else:\n",
        "        label_col_index = plot_col_index\n",
        "\n",
        "      if label_col_index is None:\n",
        "        continue\n",
        "\n",
        "      plt.scatter(self.label_indices, labels[n, :, label_col_index],\n",
        "                  edgecolors='k', label='Labels', c='#2ca02c', s=64)\n",
        "      # plt.scatter(self.label_indices, labels[n, :, stimuliIndex],\n",
        "      #             edgecolors='k', label='Labels', c='#2ca02c', s=64)\n",
        "      if model is not None:\n",
        "        predictions = model(inputs)\n",
        "        print(\"Size prediction: \",len(predictions[n, :, label_col_index]))\n",
        "        plt.scatter(self.label_indices, predictions[n, :, label_col_index],\n",
        "                    marker='X', edgecolors='k', label='Predictions',\n",
        "                    c='#ff7f0e', s=64)\n",
        "\n",
        "      if n == 0:\n",
        "        plt.legend()\n",
        "\n",
        "    plt.xlabel('Time [h]')\n",
        "    \n",
        "\n",
        "\n",
        "\n",
        "MAX_EPOCHS = 20\n",
        "def compile_and_fit(model, window, patience=2):\n",
        "  early_stopping = tf.keras.callbacks.EarlyStopping(monitor='val_loss',\n",
        "                                                    patience=patience,\n",
        "                                                    mode='min')\n",
        "\n",
        "  model.compile(loss=tf.losses.MeanSquaredError(),\n",
        "                optimizer=tf.optimizers.Adam(),\n",
        "                metrics=[tf.metrics.MeanAbsoluteError()])\n",
        "\n",
        "  history = model.fit(window.train, epochs=MAX_EPOCHS,\n",
        "                      validation_data=window.val,\n",
        "                      callbacks=[early_stopping])\n",
        "  return history"
      ],
      "metadata": {
        "id": "poKQ3lm6uAAy"
      },
      "execution_count": 110,
      "outputs": []
    },
    {
      "cell_type": "markdown",
      "source": [
        "Window generator"
      ],
      "metadata": {
        "id": "cQJ9DaPOuAjz"
      }
    },
    {
      "cell_type": "markdown",
      "source": [
        "## Generating series\n"
      ],
      "metadata": {
        "id": "8_aSIE63Ft7g"
      }
    },
    {
      "cell_type": "code",
      "metadata": {
        "id": "Zswl7jRtGzkk",
        "colab": {
          "base_uri": "https://localhost:8080/",
          "height": 576
        },
        "outputId": "24dbf7b5-66c7-4e49-ca8d-345eea2ead4e"
      },
      "source": [
        "from utils.files import getFilenames, getValues\n",
        "from utils.lstm_utils import combineTimeSeries, generateStimulationSignal, rescale,scale_stimTo_simulation, index_trim_simulation\n",
        "def plot_series(time, series, format=\"-\",figure = 1, title=\"\", start=0, end=None):\n",
        "    plt.figure(figure)\n",
        "    plt.plot(time[start:end], series[start:end], format)\n",
        "    plt.xlabel(\"Time\")\n",
        "    plt.ylabel(\"Value\")\n",
        "    plt.title(title)\n",
        "    plt.grid(True)\n",
        "\n",
        "filename=\"results/voltage/monophasic_pulse_train/voltage_amp_0.4_freq_0.4_fiberd_10_dist_100_tsiml_100_pw_0.2_step_0.01.csv\"\n",
        "simulation_df = read_csv(filename)\n",
        "simulationVm = simulation_df.values\n",
        "values = getValues(filename)\n",
        "simulationTime = float(values[\"tsiml\"])\n",
        "v_scaled, t_scaled = scale_stimTo_simulation(float(values[\"amp\"]), float(values[\"freq\"]), 10 , simulationTime, values[\"type_stimuli\"], len(simulationVm))\n",
        "series_size = t_scaled.size\n",
        "trainingSetProp = 0.6\n",
        "simulation_df[\"stimuli_vm\"] = v_scaled\n",
        "simulationVm = simulation_df[[\"stimuli_vm\", \"vm\"]].to_numpy()\n",
        "split_time = int(trainingSetProp*series_size)\n",
        "time_train = t_scaled[:split_time]\n",
        "x_train = simulationVm[:split_time]\n",
        "time_valid = t_scaled[split_time:]\n",
        "x_valid = simulationVm[split_time:]\n",
        "\n",
        "# simulation_df = simulation_df[0::20]\n",
        "v_scaled = v_scaled *300 -80\n",
        "plt.figure(1)\n",
        "plt.plot(t_scaled, v_scaled)\n",
        "plt.plot(t_scaled, simulationVm)\n",
        "# plt.margins(x=-0.3, y=0)\n",
        "\n",
        "# print(f\"time_train_size: {time_train.size} ~ x_tran_size: {x_train.size} ~  time_valid_s: {time_valid.size} ~ x_valid: {x_valid.size}\")\n",
        "\n",
        "window_size = 20\n",
        "batch_size = 32\n",
        "shuffle_buffer_size = 1000\n",
        "simulation_df.head()"
      ],
      "execution_count": 111,
      "outputs": [
        {
          "output_type": "stream",
          "name": "stderr",
          "text": [
            "2022-03-23 02:39:43,848 | INFO | Generating amp: 0.4,\n",
            "                         freq: 0.4,\n",
            "                         delay:10,\n",
            "                         t_siml:100.0,\n",
            "                         type_siml:monophasic_pulse_train,\n",
            "                         scale:9999\n",
            "          \n"
          ]
        },
        {
          "output_type": "execute_result",
          "data": {
            "text/plain": [
              "      t         vm  stimuli_vm\n",
              "0  0.00 -77.300000         0.0\n",
              "1  0.01 -77.319968         0.0\n",
              "2  0.02 -77.336411         0.0\n",
              "3  0.03 -77.351126         0.0\n",
              "4  0.04 -77.364656         0.0"
            ],
            "text/html": [
              "\n",
              "  <div id=\"df-d4d383d2-99fc-47f3-99b2-b0926878eb8f\">\n",
              "    <div class=\"colab-df-container\">\n",
              "      <div>\n",
              "<style scoped>\n",
              "    .dataframe tbody tr th:only-of-type {\n",
              "        vertical-align: middle;\n",
              "    }\n",
              "\n",
              "    .dataframe tbody tr th {\n",
              "        vertical-align: top;\n",
              "    }\n",
              "\n",
              "    .dataframe thead th {\n",
              "        text-align: right;\n",
              "    }\n",
              "</style>\n",
              "<table border=\"1\" class=\"dataframe\">\n",
              "  <thead>\n",
              "    <tr style=\"text-align: right;\">\n",
              "      <th></th>\n",
              "      <th>t</th>\n",
              "      <th>vm</th>\n",
              "      <th>stimuli_vm</th>\n",
              "    </tr>\n",
              "  </thead>\n",
              "  <tbody>\n",
              "    <tr>\n",
              "      <th>0</th>\n",
              "      <td>0.00</td>\n",
              "      <td>-77.300000</td>\n",
              "      <td>0.0</td>\n",
              "    </tr>\n",
              "    <tr>\n",
              "      <th>1</th>\n",
              "      <td>0.01</td>\n",
              "      <td>-77.319968</td>\n",
              "      <td>0.0</td>\n",
              "    </tr>\n",
              "    <tr>\n",
              "      <th>2</th>\n",
              "      <td>0.02</td>\n",
              "      <td>-77.336411</td>\n",
              "      <td>0.0</td>\n",
              "    </tr>\n",
              "    <tr>\n",
              "      <th>3</th>\n",
              "      <td>0.03</td>\n",
              "      <td>-77.351126</td>\n",
              "      <td>0.0</td>\n",
              "    </tr>\n",
              "    <tr>\n",
              "      <th>4</th>\n",
              "      <td>0.04</td>\n",
              "      <td>-77.364656</td>\n",
              "      <td>0.0</td>\n",
              "    </tr>\n",
              "  </tbody>\n",
              "</table>\n",
              "</div>\n",
              "      <button class=\"colab-df-convert\" onclick=\"convertToInteractive('df-d4d383d2-99fc-47f3-99b2-b0926878eb8f')\"\n",
              "              title=\"Convert this dataframe to an interactive table.\"\n",
              "              style=\"display:none;\">\n",
              "        \n",
              "  <svg xmlns=\"http://www.w3.org/2000/svg\" height=\"24px\"viewBox=\"0 0 24 24\"\n",
              "       width=\"24px\">\n",
              "    <path d=\"M0 0h24v24H0V0z\" fill=\"none\"/>\n",
              "    <path d=\"M18.56 5.44l.94 2.06.94-2.06 2.06-.94-2.06-.94-.94-2.06-.94 2.06-2.06.94zm-11 1L8.5 8.5l.94-2.06 2.06-.94-2.06-.94L8.5 2.5l-.94 2.06-2.06.94zm10 10l.94 2.06.94-2.06 2.06-.94-2.06-.94-.94-2.06-.94 2.06-2.06.94z\"/><path d=\"M17.41 7.96l-1.37-1.37c-.4-.4-.92-.59-1.43-.59-.52 0-1.04.2-1.43.59L10.3 9.45l-7.72 7.72c-.78.78-.78 2.05 0 2.83L4 21.41c.39.39.9.59 1.41.59.51 0 1.02-.2 1.41-.59l7.78-7.78 2.81-2.81c.8-.78.8-2.07 0-2.86zM5.41 20L4 18.59l7.72-7.72 1.47 1.35L5.41 20z\"/>\n",
              "  </svg>\n",
              "      </button>\n",
              "      \n",
              "  <style>\n",
              "    .colab-df-container {\n",
              "      display:flex;\n",
              "      flex-wrap:wrap;\n",
              "      gap: 12px;\n",
              "    }\n",
              "\n",
              "    .colab-df-convert {\n",
              "      background-color: #E8F0FE;\n",
              "      border: none;\n",
              "      border-radius: 50%;\n",
              "      cursor: pointer;\n",
              "      display: none;\n",
              "      fill: #1967D2;\n",
              "      height: 32px;\n",
              "      padding: 0 0 0 0;\n",
              "      width: 32px;\n",
              "    }\n",
              "\n",
              "    .colab-df-convert:hover {\n",
              "      background-color: #E2EBFA;\n",
              "      box-shadow: 0px 1px 2px rgba(60, 64, 67, 0.3), 0px 1px 3px 1px rgba(60, 64, 67, 0.15);\n",
              "      fill: #174EA6;\n",
              "    }\n",
              "\n",
              "    [theme=dark] .colab-df-convert {\n",
              "      background-color: #3B4455;\n",
              "      fill: #D2E3FC;\n",
              "    }\n",
              "\n",
              "    [theme=dark] .colab-df-convert:hover {\n",
              "      background-color: #434B5C;\n",
              "      box-shadow: 0px 1px 3px 1px rgba(0, 0, 0, 0.15);\n",
              "      filter: drop-shadow(0px 1px 2px rgba(0, 0, 0, 0.3));\n",
              "      fill: #FFFFFF;\n",
              "    }\n",
              "  </style>\n",
              "\n",
              "      <script>\n",
              "        const buttonEl =\n",
              "          document.querySelector('#df-d4d383d2-99fc-47f3-99b2-b0926878eb8f button.colab-df-convert');\n",
              "        buttonEl.style.display =\n",
              "          google.colab.kernel.accessAllowed ? 'block' : 'none';\n",
              "\n",
              "        async function convertToInteractive(key) {\n",
              "          const element = document.querySelector('#df-d4d383d2-99fc-47f3-99b2-b0926878eb8f');\n",
              "          const dataTable =\n",
              "            await google.colab.kernel.invokeFunction('convertToInteractive',\n",
              "                                                     [key], {});\n",
              "          if (!dataTable) return;\n",
              "\n",
              "          const docLinkHtml = 'Like what you see? Visit the ' +\n",
              "            '<a target=\"_blank\" href=https://colab.research.google.com/notebooks/data_table.ipynb>data table notebook</a>'\n",
              "            + ' to learn more about interactive tables.';\n",
              "          element.innerHTML = '';\n",
              "          dataTable['output_type'] = 'display_data';\n",
              "          await google.colab.output.renderOutput(dataTable, element);\n",
              "          const docLink = document.createElement('div');\n",
              "          docLink.innerHTML = docLinkHtml;\n",
              "          element.appendChild(docLink);\n",
              "        }\n",
              "      </script>\n",
              "    </div>\n",
              "  </div>\n",
              "  "
            ]
          },
          "metadata": {},
          "execution_count": 111
        },
        {
          "output_type": "display_data",
          "data": {
            "text/plain": [
              "<Figure size 432x288 with 1 Axes>"
            ],
            "image/png": "[encoded data removed]"
          },
          "metadata": {
            "needs_background": "light"
          }
        }
      ]
    },
    {
      "cell_type": "code",
      "source": [
        "\n",
        "simulation_df.head()\n",
        "print(\"=== Description ===\")\n",
        "print(simulation_df.describe().transpose())\n",
        "df = simulation_df\n",
        "column_indices = {name: i for i, name in enumerate(df.columns)}\n",
        "fig, axs = plt.subplots(3)\n",
        "date_time = df.pop('t')\n",
        "n = len(df)\n",
        "print(\"N: \",n)\n",
        "train_df = df[0:int(n*0.7)]\n",
        "val_df = df[int(n*0.5):int(n*0.8)]\n",
        "test_df = df[int(n*0.8):]\n",
        "num_features = df.shape[1]\n",
        "\n",
        "axs[0].plot(date_time[0:int(n*0.7)], train_df['vm'])\n",
        "axs[0].plot(date_time[0:int(n*0.7)], train_df['stimuli_vm']*200-80)\n",
        "axs[1].plot(date_time[int(n*0.5):int(n*0.8)], val_df['vm'])\n",
        "axs[1].plot(date_time[int(n*0.5):int(n*0.8)], val_df['stimuli_vm']*200-80)\n",
        "axs[2].plot(date_time[int(n*0.8):], test_df['vm'])\n",
        "axs[2].plot(date_time[int(n*0.8):], test_df['stimuli_vm']*200-80)\n",
        "\n",
        "print(\"Num features: \",num_features)\n",
        "print(\"\\n=== Window ===\")"
      ],
      "metadata": {
        "id": "M6JtF2p9uqbO",
        "outputId": "4d0f1d67-4383-4f01-f1c4-d85c4183ccc6",
        "colab": {
          "base_uri": "https://localhost:8080/",
          "height": 508
        }
      },
      "execution_count": 112,
      "outputs": [
        {
          "output_type": "stream",
          "name": "stdout",
          "text": [
            "=== Description ===\n",
            "             count       mean        std        min        25%        50%  \\\n",
            "t           9999.0  49.990000  28.866070   0.000000  24.995000  49.990000   \n",
            "vm          9999.0 -65.607292  18.867867 -85.617714 -74.452862 -73.634023   \n",
            "stimuli_vm  9999.0   0.024962   0.096762   0.000000   0.000000   0.000000   \n",
            "\n",
            "                  75%        max  \n",
            "t           74.985000  99.980000  \n",
            "vm         -64.713268  26.936275  \n",
            "stimuli_vm   0.000000   0.400000  \n",
            "N:  9999\n",
            "Num features:  2\n",
            "\n",
            "=== Window ===\n"
          ]
        },
        {
          "output_type": "display_data",
          "data": {
            "text/plain": [
              "<Figure size 432x288 with 3 Axes>"
            ],
            "image/png": "[encoded data removed]"
          },
          "metadata": {
            "needs_background": "light"
          }
        }
      ]
    },
    {
      "cell_type": "markdown",
      "source": [
        "## Baseline"
      ],
      "metadata": {
        "id": "CVf-pRuokU34"
      }
    },
    {
      "cell_type": "code",
      "source": [
        "single_step_window = WindowGenerator(train_df=train_df,val_df=val_df,test_df=test_df,input_width=1, label_width=1, shift=1,\n",
        "                     label_columns=['vm'])\n",
        "single_step_window\n",
        "\n",
        "class Baseline(tf.keras.Model):\n",
        "  def __init__(self, label_index=None):\n",
        "    super().__init__()\n",
        "    self.label_index = label_index\n",
        "\n",
        "  def call(self, inputs):\n",
        "    if self.label_index is None:\n",
        "      return inputs\n",
        "    result = inputs[:, :, self.label_index]\n",
        "    return result[:, :, tf.newaxis]\n",
        "\n",
        "baseline = Baseline(label_index=column_indices['vm'])\n",
        "\n",
        "baseline.compile(loss=tf.losses.MeanSquaredError(),\n",
        "                 metrics=[tf.metrics.MeanAbsoluteError()])\n",
        "\n",
        "val_performance = {}\n",
        "performance = {}\n",
        "val_performance['Baseline'] = baseline.evaluate(single_step_window.val)\n",
        "performance['Baseline'] = baseline.evaluate(single_step_window.test, verbose=0)\n",
        "\n",
        "wide_window = WindowGenerator(train_df=train_df,val_df=val_df,test_df=test_df,\n",
        "    input_width=24, label_width=24, shift=1,\n",
        "    label_columns=['vm'])\n",
        "\n",
        "wide_window\n",
        "\n",
        "print('Input shape:', wide_window.example[0].shape)\n",
        "print('Output shape:', baseline(wide_window.example[0]).shape)\n",
        "\n",
        "\n",
        "wide_window.plot(baseline)"
      ],
      "metadata": {
        "colab": {
          "base_uri": "https://localhost:8080/",
          "height": 0
        },
        "id": "0YunErBakXYK",
        "outputId": "9e77dbef-4d51-42c2-ce7a-2352871e6779"
      },
      "execution_count": 113,
      "outputs": [
        {
          "output_type": "stream",
          "name": "stdout",
          "text": [
            "3000\n",
            "94\n",
            "12032\n",
            "94/94 [==============================] - 1s 4ms/step - loss: 4317.3267 - mean_absolute_error: 62.7937\n",
            "2000\n",
            "63\n",
            "8064\n",
            "6999\n",
            "218\n",
            "27904\n",
            "Input shape: (32, 24, 2)\n",
            "Output shape: (32, 24, 1)\n",
            "3\n",
            "Size prediction:  24\n",
            "Size prediction:  24\n",
            "Size prediction:  24\n"
          ]
        },
        {
          "output_type": "display_data",
          "data": {
            "text/plain": [
              "<Figure size 864x576 with 3 Axes>"
            ],
            "image/png": "[encoded data removed]"
          },
          "metadata": {
            "needs_background": "light"
          }
        }
      ]
    },
    {
      "cell_type": "markdown",
      "source": [
        "## Multi-step Dense\n"
      ],
      "metadata": {
        "id": "V8y38EMkmR60"
      }
    },
    {
      "cell_type": "code",
      "source": [
        "CONV_WIDTH = 150\n",
        "label_width= 1\n",
        "conv_window = WindowGenerator(\n",
        "    train_df=train_df,\n",
        "    val_df=val_df,\n",
        "    test_df=test_df,\n",
        "    input_width=CONV_WIDTH,\n",
        "    label_width=label_width,\n",
        "    shift=50,\n",
        "    label_columns=['vm'])\n",
        "conv_window\n",
        "conv_window.plot()\n",
        "plt.title(f\"Given {CONV_WIDTH} steps of inputs, predict {label_width} steps into the future.\")\n"
      ],
      "metadata": {
        "colab": {
          "base_uri": "https://localhost:8080/",
          "height": 0
        },
        "id": "nES5yJo8mUI9",
        "outputId": "e751a258-4d95-40fe-dec9-46ec071cdb58"
      },
      "execution_count": 114,
      "outputs": [
        {
          "output_type": "stream",
          "name": "stdout",
          "text": [
            "6999\n",
            "213\n",
            "27264\n",
            "3\n"
          ]
        },
        {
          "output_type": "execute_result",
          "data": {
            "text/plain": [
              "Text(0.5, 1.0, 'Given 150 steps of inputs, predict 1 steps into the future.')"
            ]
          },
          "metadata": {},
          "execution_count": 114
        },
        {
          "output_type": "display_data",
          "data": {
            "text/plain": [
              "<Figure size 864x576 with 3 Axes>"
            ],
            "image/png": "[encoded data removed]"
          },
          "metadata": {
            "needs_background": "light"
          }
        }
      ]
    },
    {
      "cell_type": "code",
      "source": [
        "conv_model = tf.keras.Sequential([\n",
        "    tf.keras.layers.Conv1D(filters=32,\n",
        "                           kernel_size=(CONV_WIDTH,),\n",
        "                           activation='relu'),\n",
        "    tf.keras.layers.Dense(units=32, activation='relu'),\n",
        "    tf.keras.layers.Dense(units=1),\n",
        "])\n",
        "print(\"Conv model on `conv_window`\")\n",
        "print('Input shape:', conv_window.example[0].shape)\n",
        "print('Output shape:', conv_model(conv_window.example[0]).shape)\n",
        "\n",
        "history = compile_and_fit(conv_model, conv_window)\n",
        "IPython.display.clear_output()\n",
        "val_performance['Conv'] = conv_model.evaluate(conv_window.val)\n",
        "performance['Conv'] = conv_model.evaluate(conv_window.test, verbose=0)\n",
        "\n"
      ],
      "metadata": {
        "colab": {
          "base_uri": "https://localhost:8080/"
        },
        "id": "dt0mxKqXn5pY",
        "outputId": "c9b65ca5-26d1-4b60-8b80-d884cd2ab35c"
      },
      "execution_count": 115,
      "outputs": [
        {
          "output_type": "stream",
          "name": "stdout",
          "text": [
            "3000\n",
            "88\n",
            "11264\n",
            "88/88 [==============================] - 1s 10ms/step - loss: 75.5365 - mean_absolute_error: 5.1688\n",
            "2000\n",
            "57\n",
            "7296\n"
          ]
        }
      ]
    },
    {
      "cell_type": "markdown",
      "source": [
        "## Multistep only with convolutions"
      ],
      "metadata": {
        "id": "tzgWqZTWu3Tl"
      }
    },
    {
      "cell_type": "code",
      "source": [
        "def simulate(self, model):\n",
        "    # trainIterator = iter(self.train)\n",
        "    # max_n = 15\n",
        "    # plot_col = \"vm\"\n",
        "    # plot_col_index = self.column_indices[plot_col]\n",
        "    # for n in range(max_n):\n",
        "    #   inputs, labels = next(trainIterator)\n",
        "    #   plt.subplot(max_n, 1, n+1)\n",
        "    #   plt.ylabel(f'{plot_col} [normed]')\n",
        "    #   plt.plot(self.input_indices, inputs[n, :, plot_col_index],\n",
        "    #           label='Inputs', marker='.', zorder=-10)\n",
        "\n",
        "    predictSize=599\n",
        "    # predictStart = predictSize*0\n",
        "    # predictSlice = slice(predictStart,predictStart + predictSize)\n",
        "    # print(self.train_df[predictSlice])\n",
        "    # input = self.train_df[predictSlice]\n",
        "    # ds = tf.keras.utils.timeseries_dataset_from_array(\n",
        "    #     data=input,\n",
        "    #     targets=None,\n",
        "    #     sequence_length=predictSize,\n",
        "    #     sequence_stride=1,\n",
        "    #     shuffle=False,\n",
        "    #     batch_size=32,)\n",
        "    # print(self.total_window_size)\n",
        "    # print(len(list(ds)))\n",
        "    \n",
        "    # inputs = ds.map(self.minisplit)\n",
        "    # sampleInput = next(iter(inputs))\n",
        "    # # print(sampleInput)\n",
        "    # predictions = model(sampleInput)\n",
        "    ## PLOT\n",
        "    # plot_col=\"vm\"\n",
        "    # label_col_index = self.label_columns_indices.get(plot_col, None)\n",
        "    # stimuliIndex = self.column_indices[\"stimuli_vm\"]\n",
        "    # # print(\"Size prediction: \",len(predictions[0, :, label_col_index]))\n",
        "    # plt.plot(self.input_indices, sampleInput[0, :, plot_col_index],\n",
        "    #           label='Inputs', marker='.', zorder=-10)\n",
        "    # plt.plot(self.input_indices, sampleInput[0, :, stimuliIndex]*200-80,\n",
        "    #         label='Inputs', marker='.', zorder=-10)\n",
        "    # plt.scatter(self.label_indices, predictions[0, :, label_col_index],\n",
        "    #             marker='X', edgecolors='k', label='Predictions',\n",
        "    #             c='#ff7f0e', s=64)\n",
        "    # numpyTensor = predictions.numpy()[0,:,0]\n",
        "    predictStart = 0\n",
        "    predictions = []\n",
        "    simulation = np.array([])\n",
        "    for i in range(int(df.size/predictSize)):\n",
        "      predictEnd = predictStart + predictSize\n",
        "      predictSlice = slice(predictStart,predictEnd)\n",
        "      labelWidth = 500\n",
        "      historySize= predictSize - labelWidth\n",
        "      print(f\"start: {predictStart},  predictEnd: {predictStart + predictSize}\")\n",
        "      if(i == 0):\n",
        "        input = df[predictSlice]\n",
        "        ds = tf.keras.utils.timeseries_dataset_from_array(\n",
        "            data=input,\n",
        "            targets=None,\n",
        "            sequence_length=predictSize,\n",
        "            sequence_stride=1,\n",
        "            shuffle=False,\n",
        "            batch_size=32,)\n",
        "        print(self.total_window_size)\n",
        "        print(len(list(ds)))\n",
        "        \n",
        "        inputs = ds.map(self.minisplit)\n",
        "        sampleInput = next(iter(inputs))\n",
        "        print(sampleInput)\n",
        "        predictions = model(sampleInput)\n",
        "      else:\n",
        "        \n",
        "        numpyTensor = predictions.numpy()[0,:,0]\n",
        "        print(inputs)\n",
        "        df.loc[historySize:predictSize-1,\"vm\"] = numpyTensor\n",
        "        inputs = df[predictSlice]\n",
        "        print(\"size: \",inputs)\n",
        "      predictStart += labelWidth\n",
        "      simulation = np.append(simulation, predictions.numpy()[0,:,0])\n",
        "      plt.plot(simulation)\n",
        "\n",
        "  \n",
        "\n",
        "\n",
        "\n",
        "\n",
        "\n",
        "def minisplit(self, features):\n",
        "    inputs = features[:, self.input_slice, :]\n",
        "    inputs.set_shape([None, self.input_width, None])\n",
        "    return inputs\n",
        "\n",
        "\n",
        "WindowGenerator.minisplit = minisplit\n",
        "WindowGenerator.simulate = simulate\n",
        "\n",
        "\n",
        "LABEL_WIDTH = 500\n",
        "CONV_WIDTH = 100\n",
        "# Hasta el ultimo valor hasta antes de la convolucion.\n",
        "INPUT_WIDTH = LABEL_WIDTH + (CONV_WIDTH - 1)\n",
        "wide_conv_window = WindowGenerator(\n",
        "    train_df=train_df,\n",
        "    val_df=val_df,\n",
        "    test_df=test_df,\n",
        "    input_width=INPUT_WIDTH,\n",
        "    label_width=LABEL_WIDTH,\n",
        "    shift=500,\n",
        "    label_columns=['vm'])\n",
        "\n",
        "wide_conv_window.simulate(conv_model)"
      ],
      "metadata": {
        "id": "VUXNXBqxsGGT",
        "colab": {
          "base_uri": "https://localhost:8080/",
          "height": 1000
        },
        "outputId": "5109f111-65bb-4646-f1f5-a4a3562a644e"
      },
      "execution_count": 343,
      "outputs": [
        {
          "output_type": "stream",
          "name": "stdout",
          "text": [
            "start: 0,  predictEnd: 599\n",
            "1099\n",
            "1\n",
            "tf.Tensor(\n",
            "[[[ 0.          0.        ]\n",
            "  [ 1.          0.        ]\n",
            "  [ 2.          0.        ]\n",
            "  ...\n",
            "  [-0.04000616  0.        ]\n",
            "  [-0.03991611  0.        ]\n",
            "  [-0.03988173  0.        ]]], shape=(1, 599, 2), dtype=float64)\n",
            "start: 500,  predictEnd: 1099\n",
            "<MapDataset element_spec=TensorSpec(shape=(None, 599, 2), dtype=tf.float64, name=None)>\n",
            "size:               vm  stimuli_vm\n",
            "500   -3.731794         0.0\n",
            "501   -3.589770         0.0\n",
            "502   -3.452251         0.0\n",
            "503   -3.316911         0.0\n",
            "504   -3.168088         0.0\n",
            "...         ...         ...\n",
            "1094 -56.212921         0.0\n",
            "1095 -57.371585         0.0\n",
            "1096 -58.475788         0.0\n",
            "1097 -59.528091         0.0\n",
            "1098 -60.530827         0.0\n",
            "\n",
            "[599 rows x 2 columns]\n",
            "start: 1000,  predictEnd: 1599\n",
            "             vm  stimuli_vm\n",
            "500   -3.731794         0.0\n",
            "501   -3.589770         0.0\n",
            "502   -3.452251         0.0\n",
            "503   -3.316911         0.0\n",
            "504   -3.168088         0.0\n",
            "...         ...         ...\n",
            "1094 -56.212921         0.0\n",
            "1095 -57.371585         0.0\n",
            "1096 -58.475788         0.0\n",
            "1097 -59.528091         0.0\n",
            "1098 -60.530827         0.0\n",
            "\n",
            "[599 rows x 2 columns]\n",
            "size:               vm  stimuli_vm\n",
            "1000 -78.997735         0.0\n",
            "1001 -85.617714         0.4\n",
            "1002 -78.642608         0.4\n",
            "1003 -75.356299         0.4\n",
            "1004 -73.559868         0.4\n",
            "...         ...         ...\n",
            "1594 -67.222739         0.0\n",
            "1595 -67.601949         0.0\n",
            "1596 -67.961429         0.0\n",
            "1597 -68.301798         0.0\n",
            "1598 -68.623699         0.0\n",
            "\n",
            "[599 rows x 2 columns]\n",
            "start: 1500,  predictEnd: 2099\n",
            "             vm  stimuli_vm\n",
            "1000 -78.997735         0.0\n",
            "1001 -85.617714         0.4\n",
            "1002 -78.642608         0.4\n",
            "1003 -75.356299         0.4\n",
            "1004 -73.559868         0.4\n",
            "...         ...         ...\n",
            "1594 -67.222739         0.0\n",
            "1595 -67.601949         0.0\n",
            "1596 -67.961429         0.0\n",
            "1597 -68.301798         0.0\n",
            "1598 -68.623699         0.0\n",
            "\n",
            "[599 rows x 2 columns]\n",
            "size:               vm  stimuli_vm\n",
            "1500 -74.312890         0.0\n",
            "1501 -80.591393         0.4\n",
            "1502 -73.632947         0.4\n",
            "1503 -70.473150         0.4\n",
            "1504 -68.772173         0.4\n",
            "...         ...         ...\n",
            "2094 -68.683008         0.0\n",
            "2095 -68.963171         0.0\n",
            "2096 -69.226786         0.0\n",
            "2097 -69.474575         0.0\n",
            "2098 -69.707260         0.0\n",
            "\n",
            "[599 rows x 2 columns]\n",
            "start: 2000,  predictEnd: 2599\n",
            "             vm  stimuli_vm\n",
            "1500 -74.312890         0.0\n",
            "1501 -80.591393         0.4\n",
            "1502 -73.632947         0.4\n",
            "1503 -70.473150         0.4\n",
            "1504 -68.772173         0.4\n",
            "...         ...         ...\n",
            "2094 -68.683008         0.0\n",
            "2095 -68.963171         0.0\n",
            "2096 -69.226786         0.0\n",
            "2097 -69.474575         0.0\n",
            "2098 -69.707260         0.0\n",
            "\n",
            "[599 rows x 2 columns]\n",
            "size:               vm  stimuli_vm\n",
            "2000 -73.070679         0.0\n",
            "2001 -79.138671         0.4\n",
            "2002 -72.202740         0.4\n",
            "2003 -69.129256         0.4\n",
            "2004 -67.490896         0.4\n",
            "...         ...         ...\n",
            "2594 -69.129372         0.0\n",
            "2595 -69.402762         0.0\n",
            "2596 -69.659254         0.0\n",
            "2597 -69.899649         0.0\n",
            "2598 -70.124736         0.0\n",
            "\n",
            "[599 rows x 2 columns]\n",
            "start: 2500,  predictEnd: 3099\n",
            "             vm  stimuli_vm\n",
            "2000 -73.070679         0.0\n",
            "2001 -79.138671         0.4\n",
            "2002 -72.202740         0.4\n",
            "2003 -69.129256         0.4\n",
            "2004 -67.490896         0.4\n",
            "...         ...         ...\n",
            "2594 -69.129372         0.0\n",
            "2595 -69.402762         0.0\n",
            "2596 -69.659254         0.0\n",
            "2597 -69.899649         0.0\n",
            "2598 -70.124736         0.0\n",
            "\n",
            "[599 rows x 2 columns]\n",
            "size:               vm  stimuli_vm\n",
            "2500 -73.234004         0.4\n",
            "2501 -79.185226         0.4\n",
            "2502 -72.249200         0.4\n",
            "2503 -69.214521         0.4\n",
            "2504 -67.609722         0.4\n",
            "...         ...         ...\n",
            "3094 -69.262327         0.0\n",
            "3095 -69.551398         0.0\n",
            "3096 -69.822302         0.0\n",
            "3097 -70.075908         0.0\n",
            "3098 -70.313079         0.0\n",
            "\n",
            "[599 rows x 2 columns]\n",
            "start: 3000,  predictEnd: 3599\n",
            "             vm  stimuli_vm\n",
            "2500 -73.234004         0.4\n",
            "2501 -79.185226         0.4\n",
            "2502 -72.249200         0.4\n",
            "2503 -69.214521         0.4\n",
            "2504 -67.609722         0.4\n",
            "...         ...         ...\n",
            "3094 -69.262327         0.0\n",
            "3095 -69.551398         0.0\n",
            "3096 -69.822302         0.0\n",
            "3097 -70.075908         0.0\n",
            "3098 -70.313079         0.0\n",
            "\n",
            "[599 rows x 2 columns]\n",
            "size:               vm  stimuli_vm\n",
            "3000 -73.619518         0.4\n",
            "3001 -79.505451         0.4\n",
            "3002 -72.565558         0.4\n",
            "3003 -69.549964         0.4\n",
            "3004 -67.963888         0.4\n",
            "...         ...         ...\n",
            "3594 -69.165061         0.0\n",
            "3595 -69.479446         0.0\n",
            "3596 -69.774077         0.0\n",
            "3597 -70.049881         0.0\n",
            "3598 -70.307778         0.0\n",
            "\n",
            "[599 rows x 2 columns]\n",
            "start: 3500,  predictEnd: 4099\n",
            "             vm  stimuli_vm\n",
            "3000 -73.619518         0.4\n",
            "3001 -79.505451         0.4\n",
            "3002 -72.565558         0.4\n",
            "3003 -69.549964         0.4\n",
            "3004 -67.963888         0.4\n",
            "...         ...         ...\n",
            "3594 -69.165061         0.0\n",
            "3595 -69.479446         0.0\n",
            "3596 -69.774077         0.0\n",
            "3597 -70.049881         0.0\n",
            "3598 -70.307778         0.0\n",
            "\n",
            "[599 rows x 2 columns]\n",
            "size:               vm  stimuli_vm\n",
            "3500 -73.945839         0.4\n",
            "3501 -79.794665         0.4\n",
            "3502 -72.851364         0.4\n",
            "3503 -69.845755         0.4\n",
            "3504 -68.270328         0.4\n",
            "...         ...         ...\n",
            "4094 -68.914733         0.0\n",
            "4095 -69.258465         0.0\n",
            "4096 -69.580822         0.0\n",
            "4097 -69.882762         0.0\n",
            "4098 -70.165248         0.0\n",
            "\n",
            "[599 rows x 2 columns]\n",
            "start: 4000,  predictEnd: 4599\n",
            "             vm  stimuli_vm\n",
            "3500 -73.945839         0.4\n",
            "3501 -79.794665         0.4\n",
            "3502 -72.851364         0.4\n",
            "3503 -69.845755         0.4\n",
            "3504 -68.270328         0.4\n",
            "...         ...         ...\n",
            "4094 -68.914733         0.0\n",
            "4095 -69.258465         0.0\n",
            "4096 -69.580822         0.0\n",
            "4097 -69.882762         0.0\n",
            "4098 -70.165248         0.0\n",
            "\n",
            "[599 rows x 2 columns]\n",
            "size:               vm  stimuli_vm\n",
            "4000 -74.177587         0.4\n",
            "4001 -80.005027         0.4\n",
            "4002 -73.059336         0.4\n",
            "4003 -70.059180         0.4\n",
            "4004 -68.489937         0.4\n",
            "...         ...         ...\n",
            "4594 -68.590074         0.0\n",
            "4595 -68.963196         0.0\n",
            "4596 -69.313460         0.0\n",
            "4597 -69.641842         0.0\n",
            "4598 -69.949326         0.0\n",
            "\n",
            "[599 rows x 2 columns]\n",
            "start: 4500,  predictEnd: 5099\n",
            "             vm  stimuli_vm\n",
            "4000 -74.177587         0.4\n",
            "4001 -80.005027         0.4\n",
            "4002 -73.059336         0.4\n",
            "4003 -70.059180         0.4\n",
            "4004 -68.489937         0.4\n",
            "...         ...         ...\n",
            "4594 -68.590074         0.0\n",
            "4595 -68.963196         0.0\n",
            "4596 -69.313460         0.0\n",
            "4597 -69.641842         0.0\n",
            "4598 -69.949326         0.0\n",
            "\n",
            "[599 rows x 2 columns]\n",
            "size:               vm  stimuli_vm\n",
            "4500 -74.333315         0.4\n",
            "4501 -80.148058         0.4\n",
            "4502 -73.200758         0.4\n",
            "4503 -70.203655         0.4\n",
            "4504 -68.638053         0.4\n",
            "...         ...         ...\n",
            "5094 -68.241229         0.0\n",
            "5095 -68.641856         0.0\n",
            "5096 -69.018345         0.0\n",
            "5097 -69.371671         0.0\n",
            "5098 -69.702829         0.0\n",
            "\n",
            "[599 rows x 2 columns]\n",
            "start: 5000,  predictEnd: 5599\n",
            "             vm  stimuli_vm\n",
            "4500 -74.333315         0.4\n",
            "4501 -80.148058         0.4\n",
            "4502 -73.200758         0.4\n",
            "4503 -70.203655         0.4\n",
            "4504 -68.638053         0.4\n",
            "...         ...         ...\n",
            "5094 -68.241229         0.0\n",
            "5095 -68.641856         0.0\n",
            "5096 -69.018345         0.0\n",
            "5097 -69.371671         0.0\n",
            "5098 -69.702829         0.0\n",
            "\n",
            "[599 rows x 2 columns]\n",
            "size:               vm  stimuli_vm\n",
            "5000 -74.435734         0.4\n",
            "5001 -80.242855         0.4\n",
            "5002 -73.294545         0.4\n",
            "5003 -70.299229         0.4\n",
            "5004 -68.735847         0.4\n",
            "...         ...         ...\n",
            "5594 -67.902231         0.0\n",
            "5595 -68.327410         0.0\n",
            "5596 -68.727383         0.0\n",
            "5597 -69.103120         0.0\n",
            "5598 -69.455612         0.0\n",
            "\n",
            "[599 rows x 2 columns]\n",
            "start: 5500,  predictEnd: 6099\n",
            "             vm  stimuli_vm\n",
            "5000 -74.435734         0.4\n",
            "5001 -80.242855         0.4\n",
            "5002 -73.294545         0.4\n",
            "5003 -70.299229         0.4\n",
            "5004 -68.735847         0.4\n",
            "...         ...         ...\n",
            "5594 -67.902231         0.0\n",
            "5595 -68.327410         0.0\n",
            "5596 -68.727383         0.0\n",
            "5597 -69.103120         0.0\n",
            "5598 -69.455612         0.0\n",
            "\n",
            "[599 rows x 2 columns]\n",
            "size:               vm  stimuli_vm\n",
            "5500 -74.503375         0.4\n",
            "5501 -80.305742         0.4\n",
            "5502 -73.356790         0.4\n",
            "5503 -70.362555         0.4\n",
            "5504 -68.800567         0.4\n",
            "...         ...         ...\n",
            "6094 -67.593901         0.0\n",
            "6095 -68.040192         0.0\n",
            "6096 -68.460411         0.0\n",
            "6097 -68.855516         0.0\n",
            "6098 -69.226493         0.0\n",
            "\n",
            "[599 rows x 2 columns]\n",
            "start: 6000,  predictEnd: 6599\n",
            "             vm  stimuli_vm\n",
            "5500 -74.503375         0.4\n",
            "5501 -80.305742         0.4\n",
            "5502 -73.356790         0.4\n",
            "5503 -70.362555         0.4\n",
            "5504 -68.800567         0.4\n",
            "...         ...         ...\n",
            "6094 -67.593901         0.0\n",
            "6095 -68.040192         0.0\n",
            "6096 -68.460411         0.0\n",
            "6097 -68.855516         0.0\n",
            "6098 -69.226493         0.0\n",
            "\n",
            "[599 rows x 2 columns]\n",
            "size:               vm  stimuli_vm\n",
            "6000 -74.548536         0.4\n",
            "6001 -80.347864         0.4\n",
            "6002 -73.398517         0.4\n",
            "6003 -70.404971         0.4\n",
            "6004 -68.843894         0.4\n",
            "...         ...         ...\n",
            "6594 -67.324518         0.0\n",
            "6595 -67.788544         0.0\n",
            "6596 -68.225804         0.0\n",
            "6597 -68.637245         0.0\n",
            "6598 -69.023843         0.0\n",
            "\n",
            "[599 rows x 2 columns]\n",
            "start: 6500,  predictEnd: 7099\n",
            "             vm  stimuli_vm\n",
            "6000 -74.548536         0.4\n",
            "6001 -80.347864         0.4\n",
            "6002 -73.398517         0.4\n",
            "6003 -70.404971         0.4\n",
            "6004 -68.843894         0.4\n",
            "...         ...         ...\n",
            "6594 -67.324518         0.0\n",
            "6595 -67.788544         0.0\n",
            "6596 -68.225804         0.0\n",
            "6597 -68.637245         0.0\n",
            "6598 -69.023843         0.0\n",
            "\n",
            "[599 rows x 2 columns]\n",
            "size:               vm  stimuli_vm\n",
            "6500 -74.579297         0.4\n",
            "6501 -80.376642         0.4\n",
            "6502 -73.427063         0.4\n",
            "6503 -70.433979         0.4\n",
            "6504 -68.873519         0.4\n",
            "...         ...         ...\n",
            "7094 -67.082971         0.0\n",
            "7095 -67.562388         0.0\n",
            "7096 -68.014461         0.0\n",
            "7097 -68.440126         0.0\n",
            "7098 -68.840349         0.0\n",
            "\n",
            "[599 rows x 2 columns]\n",
            "start: 7000,  predictEnd: 7599\n",
            "             vm  stimuli_vm\n",
            "6500 -74.579297         0.4\n",
            "6501 -80.376642         0.4\n",
            "6502 -73.427063         0.4\n",
            "6503 -70.433979         0.4\n",
            "6504 -68.873519         0.4\n",
            "...         ...         ...\n",
            "7094 -67.082971         0.0\n",
            "7095 -67.562388         0.0\n",
            "7096 -68.014461         0.0\n",
            "7097 -68.440126         0.0\n",
            "7098 -68.840349         0.0\n",
            "\n",
            "[599 rows x 2 columns]\n",
            "size:               vm  stimuli_vm\n",
            "7000 -74.600730         0.4\n",
            "7001 -80.396684         0.4\n",
            "7002 -73.446952         0.4\n",
            "7003 -70.454188         0.4\n",
            "7004 -68.894170         0.4\n",
            "...         ...         ...\n",
            "7594 -66.894691         0.0\n",
            "7595 -67.385918         0.0\n",
            "7596 -67.849369         0.0\n",
            "7597 -68.285972         0.0\n",
            "7598 -68.696684         0.0\n",
            "\n",
            "[599 rows x 2 columns]\n",
            "start: 7500,  predictEnd: 8099\n",
            "             vm  stimuli_vm\n",
            "7000 -74.600730         0.4\n",
            "7001 -80.396684         0.4\n",
            "7002 -73.446952         0.4\n",
            "7003 -70.454188         0.4\n",
            "7004 -68.894170         0.4\n",
            "...         ...         ...\n",
            "7594 -66.894691         0.0\n",
            "7595 -67.385918         0.0\n",
            "7596 -67.849369         0.0\n",
            "7597 -68.285972         0.0\n",
            "7598 -68.696684         0.0\n",
            "\n",
            "[599 rows x 2 columns]\n",
            "size:               vm  stimuli_vm\n",
            "7500 -74.616034         0.4\n",
            "7501 -80.411039         0.4\n",
            "7502 -73.461230         0.4\n",
            "7503 -70.468701         0.4\n",
            "7504 -68.908992         0.4\n",
            "...         ...         ...\n",
            "8094 -66.737579         0.0\n",
            "8095 -67.238497         0.0\n",
            "8096 -67.711293         0.0\n",
            "8097 -68.156888         0.0\n",
            "8098 -68.576231         0.0\n",
            "\n",
            "[599 rows x 2 columns]\n",
            "start: 8000,  predictEnd: 8599\n",
            "             vm  stimuli_vm\n",
            "7500 -74.616034         0.4\n",
            "7501 -80.411039         0.4\n",
            "7502 -73.461230         0.4\n",
            "7503 -70.468701         0.4\n",
            "7504 -68.908992         0.4\n",
            "...         ...         ...\n",
            "8094 -66.737579         0.0\n",
            "8095 -67.238497         0.0\n",
            "8096 -67.711293         0.0\n",
            "8097 -68.156888         0.0\n",
            "8098 -68.576231         0.0\n",
            "\n",
            "[599 rows x 2 columns]\n",
            "size:               vm  stimuli_vm\n",
            "8000 -74.627125         0.4\n",
            "8001 -80.421397         0.4\n",
            "8002 -73.471529         0.4\n",
            "8003 -70.479170         0.4\n",
            "8004 -68.919692         0.4\n",
            "...         ...         ...\n",
            "8594 -66.579104         0.0\n",
            "8595 -67.089584         0.0\n",
            "8596 -67.571611         0.0\n",
            "8597 -68.026097         0.0\n",
            "8598 -68.453984         0.0\n",
            "\n",
            "[599 rows x 2 columns]\n",
            "start: 8500,  predictEnd: 9099\n",
            "             vm  stimuli_vm\n",
            "8000 -74.627125         0.4\n",
            "8001 -80.421397         0.4\n",
            "8002 -73.471529         0.4\n",
            "8003 -70.479170         0.4\n",
            "8004 -68.919692         0.4\n",
            "...         ...         ...\n",
            "8594 -66.579104         0.0\n",
            "8595 -67.089584         0.0\n",
            "8596 -67.571611         0.0\n",
            "8597 -68.026097         0.0\n",
            "8598 -68.453984         0.0\n",
            "\n",
            "[599 rows x 2 columns]\n",
            "size:               vm  stimuli_vm\n",
            "8500 -74.635425         0.4\n",
            "8501 -80.429227         0.4\n",
            "8502 -73.479341         0.4\n",
            "8503 -70.487125         0.4\n",
            "8504 -68.927842         0.4\n",
            "...         ...         ...\n",
            "9094 -75.391813         0.0\n",
            "9095 -75.400276         0.0\n",
            "9096 -75.408735         0.0\n",
            "9097 -75.417191         0.0\n",
            "9098 -75.425676         0.0\n",
            "\n",
            "[599 rows x 2 columns]\n",
            "start: 9000,  predictEnd: 9599\n",
            "             vm  stimuli_vm\n",
            "8500 -74.635425         0.4\n",
            "8501 -80.429227         0.4\n",
            "8502 -73.479341         0.4\n",
            "8503 -70.487125         0.4\n",
            "8504 -68.927842         0.4\n",
            "...         ...         ...\n",
            "9094 -75.391813         0.0\n",
            "9095 -75.400276         0.0\n",
            "9096 -75.408735         0.0\n",
            "9097 -75.417191         0.0\n",
            "9098 -75.425676         0.0\n",
            "\n",
            "[599 rows x 2 columns]\n",
            "size:               vm  stimuli_vm\n",
            "9000 -74.641659         0.0\n",
            "9001 -74.648584         0.0\n",
            "9002 -74.655547         0.0\n",
            "9003 -74.662548         0.0\n",
            "9004 -74.669588         0.0\n",
            "...         ...         ...\n",
            "9594 -78.848293         0.0\n",
            "9595 -78.853325         0.0\n",
            "9596 -78.858349         0.0\n",
            "9597 -78.863364         0.0\n",
            "9598 -78.868369         0.0\n",
            "\n",
            "[599 rows x 2 columns]\n",
            "start: 9500,  predictEnd: 10099\n",
            "             vm  stimuli_vm\n",
            "9000 -74.641659         0.0\n",
            "9001 -74.648584         0.0\n",
            "9002 -74.655547         0.0\n",
            "9003 -74.662548         0.0\n",
            "9004 -74.669588         0.0\n",
            "...         ...         ...\n",
            "9594 -78.848293         0.0\n",
            "9595 -78.853325         0.0\n",
            "9596 -78.858349         0.0\n",
            "9597 -78.863364         0.0\n",
            "9598 -78.868369         0.0\n",
            "\n",
            "[599 rows x 2 columns]\n",
            "size:               vm  stimuli_vm\n",
            "9500 -78.343004         0.0\n",
            "9501 -78.348674         0.0\n",
            "9502 -78.354343         0.0\n",
            "9503 -78.360012         0.0\n",
            "9504 -78.365681         0.0\n",
            "...         ...         ...\n",
            "9994 -80.445997         0.0\n",
            "9995 -80.449087         0.0\n",
            "9996 -80.452173         0.0\n",
            "9997 -80.455255         0.0\n",
            "9998 -80.458332         0.0\n",
            "\n",
            "[499 rows x 2 columns]\n",
            "start: 10000,  predictEnd: 10599\n",
            "             vm  stimuli_vm\n",
            "9500 -78.343004         0.0\n",
            "9501 -78.348674         0.0\n",
            "9502 -78.354343         0.0\n",
            "9503 -78.360012         0.0\n",
            "9504 -78.365681         0.0\n",
            "...         ...         ...\n",
            "9994 -80.445997         0.0\n",
            "9995 -80.449087         0.0\n",
            "9996 -80.452173         0.0\n",
            "9997 -80.455255         0.0\n",
            "9998 -80.458332         0.0\n",
            "\n",
            "[499 rows x 2 columns]\n",
            "size:  Empty DataFrame\n",
            "Columns: [vm, stimuli_vm]\n",
            "Index: []\n",
            "start: 10500,  predictEnd: 11099\n",
            "Empty DataFrame\n",
            "Columns: [vm, stimuli_vm]\n",
            "Index: []\n",
            "size:  Empty DataFrame\n",
            "Columns: [vm, stimuli_vm]\n",
            "Index: []\n",
            "start: 11000,  predictEnd: 11599\n",
            "Empty DataFrame\n",
            "Columns: [vm, stimuli_vm]\n",
            "Index: []\n",
            "size:  Empty DataFrame\n",
            "Columns: [vm, stimuli_vm]\n",
            "Index: []\n",
            "start: 11500,  predictEnd: 12099\n",
            "Empty DataFrame\n",
            "Columns: [vm, stimuli_vm]\n",
            "Index: []\n",
            "size:  Empty DataFrame\n",
            "Columns: [vm, stimuli_vm]\n",
            "Index: []\n",
            "start: 12000,  predictEnd: 12599\n",
            "Empty DataFrame\n",
            "Columns: [vm, stimuli_vm]\n",
            "Index: []\n",
            "size:  Empty DataFrame\n",
            "Columns: [vm, stimuli_vm]\n",
            "Index: []\n",
            "start: 12500,  predictEnd: 13099\n",
            "Empty DataFrame\n",
            "Columns: [vm, stimuli_vm]\n",
            "Index: []\n",
            "size:  Empty DataFrame\n",
            "Columns: [vm, stimuli_vm]\n",
            "Index: []\n",
            "start: 13000,  predictEnd: 13599\n",
            "Empty DataFrame\n",
            "Columns: [vm, stimuli_vm]\n",
            "Index: []\n",
            "size:  Empty DataFrame\n",
            "Columns: [vm, stimuli_vm]\n",
            "Index: []\n",
            "start: 13500,  predictEnd: 14099\n",
            "Empty DataFrame\n",
            "Columns: [vm, stimuli_vm]\n",
            "Index: []\n",
            "size:  Empty DataFrame\n",
            "Columns: [vm, stimuli_vm]\n",
            "Index: []\n",
            "start: 14000,  predictEnd: 14599\n",
            "Empty DataFrame\n",
            "Columns: [vm, stimuli_vm]\n",
            "Index: []\n",
            "size:  Empty DataFrame\n",
            "Columns: [vm, stimuli_vm]\n",
            "Index: []\n",
            "start: 14500,  predictEnd: 15099\n",
            "Empty DataFrame\n",
            "Columns: [vm, stimuli_vm]\n",
            "Index: []\n",
            "size:  Empty DataFrame\n",
            "Columns: [vm, stimuli_vm]\n",
            "Index: []\n",
            "start: 15000,  predictEnd: 15599\n",
            "Empty DataFrame\n",
            "Columns: [vm, stimuli_vm]\n",
            "Index: []\n",
            "size:  Empty DataFrame\n",
            "Columns: [vm, stimuli_vm]\n",
            "Index: []\n",
            "start: 15500,  predictEnd: 16099\n",
            "Empty DataFrame\n",
            "Columns: [vm, stimuli_vm]\n",
            "Index: []\n",
            "size:  Empty DataFrame\n",
            "Columns: [vm, stimuli_vm]\n",
            "Index: []\n",
            "start: 16000,  predictEnd: 16599\n",
            "Empty DataFrame\n",
            "Columns: [vm, stimuli_vm]\n",
            "Index: []\n",
            "size:  Empty DataFrame\n",
            "Columns: [vm, stimuli_vm]\n",
            "Index: []\n"
          ]
        },
        {
          "output_type": "display_data",
          "data": {
            "text/plain": [
              "<Figure size 432x288 with 1 Axes>"
            ],
            "image/png": "[encoded data removed]"
          },
          "metadata": {
            "needs_background": "light"
          }
        }
      ]
    },
    {
      "cell_type": "code",
      "source": [
        "wide_conv_window.simulate(conv_model)"
      ],
      "metadata": {
        "colab": {
          "base_uri": "https://localhost:8080/",
          "height": 577
        },
        "id": "DIc8DXDuzAO1",
        "outputId": "acb09642-f33a-48d9-a63a-61fd3d0407a8"
      },
      "execution_count": 130,
      "outputs": [
        {
          "output_type": "stream",
          "name": "stdout",
          "text": [
            "             vm  stimuli_vm\n",
            "5990 -74.480627         0.0\n",
            "5991 -74.487235         0.0\n",
            "5992 -74.493886         0.0\n",
            "5993 -74.500579         0.0\n",
            "5994 -74.507314         0.0\n",
            "...         ...         ...\n",
            "6584 -61.023087         0.0\n",
            "6585 -61.801479         0.0\n",
            "6586 -62.544681         0.0\n",
            "6587 -63.253592         0.0\n",
            "6588 -63.929060         0.0\n",
            "\n",
            "[599 rows x 2 columns]\n",
            "1099\n",
            "1\n",
            "LABEL INDEX: 0\n",
            "Size prediction:  500\n"
          ]
        },
        {
          "output_type": "display_data",
          "data": {
            "text/plain": [
              "<Figure size 432x288 with 1 Axes>"
            ],
            "image/png": "[encoded data removed]"
          },
          "metadata": {
            "needs_background": "light"
          }
        }
      ]
    },
    {
      "cell_type": "code",
      "source": [
        "\n",
        "\n",
        "# train_df = wide_conv_window.train_df"
      ],
      "metadata": {
        "id": "GE5wVTKqa2Zx"
      },
      "execution_count": 117,
      "outputs": []
    },
    {
      "cell_type": "markdown",
      "source": [
        "##Prediction"
      ],
      "metadata": {
        "id": "ys-huIYZy3co"
      }
    },
    {
      "cell_type": "code",
      "source": [
        "conv_model = tf.keras.Sequential([\n",
        "    tf.keras.layers.Conv1D(filters=32,\n",
        "                           kernel_size=(CONV_WIDTH,),\n",
        "                           activation='relu'),\n",
        "    tf.keras.layers.Dense(units=32, activation='relu'),\n",
        "    tf.keras.layers.Dense(units=1),\n",
        "])\n",
        "print(\"Conv model on `conv_window`\")\n",
        "print('Input shape:', wide_conv_window.example[0].shape)\n",
        "print('Output shape:', conv_model(wide_conv_window.example[0]).shape)\n",
        "\n",
        "\n",
        "\n",
        "history = compile_and_fit(conv_model, wide_conv_window)\n",
        "IPython.display.clear_output()\n",
        "val_performance['Conv'] = conv_model.evaluate(wide_conv_window.val)\n",
        "performance['Conv'] = conv_model.evaluate(wide_conv_window.test, verbose=0)\n",
        "\n",
        "print(\"Wide conv window\")\n",
        "\n",
        "print('Labels shape:', wide_conv_window.example[1].shape)\n",
        "print('Output shape:', conv_model(wide_conv_window.example[0]).shape)\n"
      ],
      "metadata": {
        "colab": {
          "base_uri": "https://localhost:8080/"
        },
        "id": "_08Nn-Ahu6tF",
        "outputId": "e1c792e4-33fd-4bb5-ead6-fb4840780a6a"
      },
      "execution_count": 118,
      "outputs": [
        {
          "output_type": "stream",
          "name": "stdout",
          "text": [
            "3000\n",
            "60\n",
            "7680\n",
            "60/60 [==============================] - 1s 8ms/step - loss: 1.9683 - mean_absolute_error: 0.7589\n",
            "2000\n",
            "29\n",
            "3712\n",
            "Wide conv window\n",
            "Labels shape: (32, 500, 1)\n",
            "Output shape: (32, 500, 1)\n"
          ]
        }
      ]
    },
    {
      "cell_type": "code",
      "source": [
        "print(\"Wide conv window\")\n",
        "print('Input shape:', wide_conv_window.train)\n",
        "print('Labels shape:', wide_conv_window.example[1].shape)\n",
        "print('Output shape:', conv_model(wide_conv_window.example[0]).shape)\n",
        "\n",
        "train_df = wide_conv_window.train_df\n",
        "\n",
        "\n",
        "\n",
        "wide_conv_window.plot(conv_model)"
      ],
      "metadata": {
        "colab": {
          "base_uri": "https://localhost:8080/",
          "height": 688
        },
        "id": "R-rHCVzEXy_4",
        "outputId": "05136bae-2cef-4a94-b0ab-8964a7d38813"
      },
      "execution_count": 119,
      "outputs": [
        {
          "output_type": "stream",
          "name": "stdout",
          "text": [
            "Wide conv window\n",
            "6999\n",
            "185\n",
            "23680\n",
            "Input shape: <MapDataset element_spec=(TensorSpec(shape=(None, 599, 2), dtype=tf.float32, name=None), TensorSpec(shape=(None, 500, 1), dtype=tf.float32, name=None))>\n",
            "Labels shape: (32, 500, 1)\n",
            "Output shape: (32, 500, 1)\n",
            "3\n",
            "Size prediction:  500\n",
            "Size prediction:  500\n",
            "Size prediction:  500\n"
          ]
        },
        {
          "output_type": "display_data",
          "data": {
            "text/plain": [
              "<Figure size 864x576 with 3 Axes>"
            ],
            "image/png": "[encoded data removed]"
          },
          "metadata": {
            "needs_background": "light"
          }
        }
      ]
    },
    {
      "cell_type": "markdown",
      "source": [
        "## Multistep with LSTM"
      ],
      "metadata": {
        "id": "GRBCZUY7vamD"
      }
    },
    {
      "cell_type": "code",
      "source": [
        "wide_lstm_window = WindowGenerator(\n",
        "    train_df=train_df,\n",
        "    val_df=val_df,\n",
        "    test_df=test_df,\n",
        "    input_width=400, \n",
        "    label_width=200, \n",
        "    shift=200,\n",
        "    label_columns=['vm'])\n",
        "\n",
        "wide_lstm_window.plot()\n",
        "lstm_model = tf.keras.models.Sequential([\n",
        "    # Shape [batch, time, features] => [batch, time, lstm_units]\n",
        "    tf.keras.layers.LSTM(32, return_sequences=False),\n",
        "    # Shape => [batch, time, features]\n",
        "    tf.keras.layers.Dense(units=1)\n",
        "])"
      ],
      "metadata": {
        "id": "LHaGVAqtvdom",
        "colab": {
          "base_uri": "https://localhost:8080/",
          "height": 566
        },
        "outputId": "093abdda-2d38-4c9d-8805-f7602bd3f120"
      },
      "execution_count": 121,
      "outputs": [
        {
          "output_type": "stream",
          "name": "stdout",
          "text": [
            "6999\n",
            "200\n",
            "25600\n",
            "3\n"
          ]
        },
        {
          "output_type": "display_data",
          "data": {
            "text/plain": [
              "<Figure size 864x576 with 3 Axes>"
            ],
            "image/png": "[encoded data removed]"
          },
          "metadata": {
            "needs_background": "light"
          }
        }
      ]
    },
    {
      "cell_type": "code",
      "source": [
        "print('Input shape:', wide_lstm_window.example[0].shape)\n",
        "print('Output shape:', lstm_model(wide_lstm_window.example[0]).shape)"
      ],
      "metadata": {
        "id": "79eOsHKcwu8y",
        "colab": {
          "base_uri": "https://localhost:8080/"
        },
        "outputId": "a56b132e-e955-4f78-9f8c-0d421934623e"
      },
      "execution_count": 122,
      "outputs": [
        {
          "output_type": "stream",
          "name": "stdout",
          "text": [
            "Input shape: (32, 400, 2)\n",
            "Output shape: (32, 1)\n"
          ]
        }
      ]
    },
    {
      "cell_type": "code",
      "source": [
        "history = compile_and_fit(lstm_model, wide_lstm_window)\n",
        "\n",
        "IPython.display.clear_output()\n",
        "val_performance['LSTM'] = lstm_model.evaluate(wide_lstm_window.val)\n",
        "performance['LSTM'] = lstm_model.evaluate(wide_lstm_window.test, verbose=0)\n"
      ],
      "metadata": {
        "id": "3QX_2rRPwx_z",
        "colab": {
          "base_uri": "https://localhost:8080/",
          "height": 555
        },
        "outputId": "a667c715-da14-49f9-e43a-48df77dcad0d"
      },
      "execution_count": 124,
      "outputs": [
        {
          "output_type": "stream",
          "name": "stdout",
          "text": [
            "6999\n",
            "200\n",
            "25600\n",
            "3000\n",
            "76\n",
            "9728\n",
            "Epoch 1/20\n",
            "200/200 [==============================] - 6s 25ms/step - loss: 401.3641 - mean_absolute_error: 15.3100 - val_loss: 369.1841 - val_mean_absolute_error: 14.7223\n",
            "Epoch 2/20\n",
            "200/200 [==============================] - ETA: 0s - loss: 394.1752 - mean_absolute_error: 14.8072"
          ]
        },
        {
          "output_type": "error",
          "ename": "KeyboardInterrupt",
          "evalue": "ignored",
          "traceback": [
            "\u001b[0;31m---------------------------------------------------------------------------\u001b[0m",
            "\u001b[0;31mKeyboardInterrupt\u001b[0m                         Traceback (most recent call last)",
            "\u001b[0;32m<ipython-input-124-f76a1df8d8d7>\u001b[0m in \u001b[0;36m<module>\u001b[0;34m()\u001b[0m\n\u001b[0;32m----> 1\u001b[0;31m \u001b[0mhistory\u001b[0m \u001b[0;34m=\u001b[0m \u001b[0mcompile_and_fit\u001b[0m\u001b[0;34m(\u001b[0m\u001b[0mlstm_model\u001b[0m\u001b[0;34m,\u001b[0m \u001b[0mwide_lstm_window\u001b[0m\u001b[0;34m)\u001b[0m\u001b[0;34m\u001b[0m\u001b[0;34m\u001b[0m\u001b[0m\n\u001b[0m\u001b[1;32m      2\u001b[0m \u001b[0;34m\u001b[0m\u001b[0m\n\u001b[1;32m      3\u001b[0m \u001b[0mIPython\u001b[0m\u001b[0;34m.\u001b[0m\u001b[0mdisplay\u001b[0m\u001b[0;34m.\u001b[0m\u001b[0mclear_output\u001b[0m\u001b[0;34m(\u001b[0m\u001b[0;34m)\u001b[0m\u001b[0;34m\u001b[0m\u001b[0;34m\u001b[0m\u001b[0m\n\u001b[1;32m      4\u001b[0m \u001b[0mval_performance\u001b[0m\u001b[0;34m[\u001b[0m\u001b[0;34m'LSTM'\u001b[0m\u001b[0;34m]\u001b[0m \u001b[0;34m=\u001b[0m \u001b[0mlstm_model\u001b[0m\u001b[0;34m.\u001b[0m\u001b[0mevaluate\u001b[0m\u001b[0;34m(\u001b[0m\u001b[0mwide_lstm_window\u001b[0m\u001b[0;34m.\u001b[0m\u001b[0mval\u001b[0m\u001b[0;34m)\u001b[0m\u001b[0;34m\u001b[0m\u001b[0;34m\u001b[0m\u001b[0m\n\u001b[1;32m      5\u001b[0m \u001b[0mperformance\u001b[0m\u001b[0;34m[\u001b[0m\u001b[0;34m'LSTM'\u001b[0m\u001b[0;34m]\u001b[0m \u001b[0;34m=\u001b[0m \u001b[0mlstm_model\u001b[0m\u001b[0;34m.\u001b[0m\u001b[0mevaluate\u001b[0m\u001b[0;34m(\u001b[0m\u001b[0mwide_lstm_window\u001b[0m\u001b[0;34m.\u001b[0m\u001b[0mtest\u001b[0m\u001b[0;34m,\u001b[0m \u001b[0mverbose\u001b[0m\u001b[0;34m=\u001b[0m\u001b[0;36m0\u001b[0m\u001b[0;34m)\u001b[0m\u001b[0;34m\u001b[0m\u001b[0;34m\u001b[0m\u001b[0m\n",
            "\u001b[0;32m<ipython-input-110-83d1ffa76522>\u001b[0m in \u001b[0;36mcompile_and_fit\u001b[0;34m(model, window, patience)\u001b[0m\n\u001b[1;32m    149\u001b[0m   history = model.fit(window.train, epochs=MAX_EPOCHS,\n\u001b[1;32m    150\u001b[0m                       \u001b[0mvalidation_data\u001b[0m\u001b[0;34m=\u001b[0m\u001b[0mwindow\u001b[0m\u001b[0;34m.\u001b[0m\u001b[0mval\u001b[0m\u001b[0;34m,\u001b[0m\u001b[0;34m\u001b[0m\u001b[0;34m\u001b[0m\u001b[0m\n\u001b[0;32m--> 151\u001b[0;31m                       callbacks=[early_stopping])\n\u001b[0m\u001b[1;32m    152\u001b[0m   \u001b[0;32mreturn\u001b[0m \u001b[0mhistory\u001b[0m\u001b[0;34m\u001b[0m\u001b[0;34m\u001b[0m\u001b[0m\n",
            "\u001b[0;32m/usr/local/lib/python3.7/dist-packages/keras/utils/traceback_utils.py\u001b[0m in \u001b[0;36merror_handler\u001b[0;34m(*args, **kwargs)\u001b[0m\n\u001b[1;32m     62\u001b[0m     \u001b[0mfiltered_tb\u001b[0m \u001b[0;34m=\u001b[0m \u001b[0;32mNone\u001b[0m\u001b[0;34m\u001b[0m\u001b[0;34m\u001b[0m\u001b[0m\n\u001b[1;32m     63\u001b[0m     \u001b[0;32mtry\u001b[0m\u001b[0;34m:\u001b[0m\u001b[0;34m\u001b[0m\u001b[0;34m\u001b[0m\u001b[0m\n\u001b[0;32m---> 64\u001b[0;31m       \u001b[0;32mreturn\u001b[0m \u001b[0mfn\u001b[0m\u001b[0;34m(\u001b[0m\u001b[0;34m*\u001b[0m\u001b[0margs\u001b[0m\u001b[0;34m,\u001b[0m \u001b[0;34m**\u001b[0m\u001b[0mkwargs\u001b[0m\u001b[0;34m)\u001b[0m\u001b[0;34m\u001b[0m\u001b[0;34m\u001b[0m\u001b[0m\n\u001b[0m\u001b[1;32m     65\u001b[0m     \u001b[0;32mexcept\u001b[0m \u001b[0mException\u001b[0m \u001b[0;32mas\u001b[0m \u001b[0me\u001b[0m\u001b[0;34m:\u001b[0m  \u001b[0;31m# pylint: disable=broad-except\u001b[0m\u001b[0;34m\u001b[0m\u001b[0;34m\u001b[0m\u001b[0m\n\u001b[1;32m     66\u001b[0m       \u001b[0mfiltered_tb\u001b[0m \u001b[0;34m=\u001b[0m \u001b[0m_process_traceback_frames\u001b[0m\u001b[0;34m(\u001b[0m\u001b[0me\u001b[0m\u001b[0;34m.\u001b[0m\u001b[0m__traceback__\u001b[0m\u001b[0;34m)\u001b[0m\u001b[0;34m\u001b[0m\u001b[0;34m\u001b[0m\u001b[0m\n",
            "\u001b[0;32m/usr/local/lib/python3.7/dist-packages/keras/engine/training.py\u001b[0m in \u001b[0;36mfit\u001b[0;34m(self, x, y, batch_size, epochs, verbose, callbacks, validation_split, validation_data, shuffle, class_weight, sample_weight, initial_epoch, steps_per_epoch, validation_steps, validation_batch_size, validation_freq, max_queue_size, workers, use_multiprocessing)\u001b[0m\n\u001b[1;32m   1429\u001b[0m               \u001b[0muse_multiprocessing\u001b[0m\u001b[0;34m=\u001b[0m\u001b[0muse_multiprocessing\u001b[0m\u001b[0;34m,\u001b[0m\u001b[0;34m\u001b[0m\u001b[0;34m\u001b[0m\u001b[0m\n\u001b[1;32m   1430\u001b[0m               \u001b[0mreturn_dict\u001b[0m\u001b[0;34m=\u001b[0m\u001b[0;32mTrue\u001b[0m\u001b[0;34m,\u001b[0m\u001b[0;34m\u001b[0m\u001b[0;34m\u001b[0m\u001b[0m\n\u001b[0;32m-> 1431\u001b[0;31m               _use_cached_eval_dataset=True)\n\u001b[0m\u001b[1;32m   1432\u001b[0m           \u001b[0mval_logs\u001b[0m \u001b[0;34m=\u001b[0m \u001b[0;34m{\u001b[0m\u001b[0;34m'val_'\u001b[0m \u001b[0;34m+\u001b[0m \u001b[0mname\u001b[0m\u001b[0;34m:\u001b[0m \u001b[0mval\u001b[0m \u001b[0;32mfor\u001b[0m \u001b[0mname\u001b[0m\u001b[0;34m,\u001b[0m \u001b[0mval\u001b[0m \u001b[0;32min\u001b[0m \u001b[0mval_logs\u001b[0m\u001b[0;34m.\u001b[0m\u001b[0mitems\u001b[0m\u001b[0;34m(\u001b[0m\u001b[0;34m)\u001b[0m\u001b[0;34m}\u001b[0m\u001b[0;34m\u001b[0m\u001b[0;34m\u001b[0m\u001b[0m\n\u001b[1;32m   1433\u001b[0m           \u001b[0mepoch_logs\u001b[0m\u001b[0;34m.\u001b[0m\u001b[0mupdate\u001b[0m\u001b[0;34m(\u001b[0m\u001b[0mval_logs\u001b[0m\u001b[0;34m)\u001b[0m\u001b[0;34m\u001b[0m\u001b[0;34m\u001b[0m\u001b[0m\n",
            "\u001b[0;32m/usr/local/lib/python3.7/dist-packages/keras/utils/traceback_utils.py\u001b[0m in \u001b[0;36merror_handler\u001b[0;34m(*args, **kwargs)\u001b[0m\n\u001b[1;32m     62\u001b[0m     \u001b[0mfiltered_tb\u001b[0m \u001b[0;34m=\u001b[0m \u001b[0;32mNone\u001b[0m\u001b[0;34m\u001b[0m\u001b[0;34m\u001b[0m\u001b[0m\n\u001b[1;32m     63\u001b[0m     \u001b[0;32mtry\u001b[0m\u001b[0;34m:\u001b[0m\u001b[0;34m\u001b[0m\u001b[0;34m\u001b[0m\u001b[0m\n\u001b[0;32m---> 64\u001b[0;31m       \u001b[0;32mreturn\u001b[0m \u001b[0mfn\u001b[0m\u001b[0;34m(\u001b[0m\u001b[0;34m*\u001b[0m\u001b[0margs\u001b[0m\u001b[0;34m,\u001b[0m \u001b[0;34m**\u001b[0m\u001b[0mkwargs\u001b[0m\u001b[0;34m)\u001b[0m\u001b[0;34m\u001b[0m\u001b[0;34m\u001b[0m\u001b[0m\n\u001b[0m\u001b[1;32m     65\u001b[0m     \u001b[0;32mexcept\u001b[0m \u001b[0mException\u001b[0m \u001b[0;32mas\u001b[0m \u001b[0me\u001b[0m\u001b[0;34m:\u001b[0m  \u001b[0;31m# pylint: disable=broad-except\u001b[0m\u001b[0;34m\u001b[0m\u001b[0;34m\u001b[0m\u001b[0m\n\u001b[1;32m     66\u001b[0m       \u001b[0mfiltered_tb\u001b[0m \u001b[0;34m=\u001b[0m \u001b[0m_process_traceback_frames\u001b[0m\u001b[0;34m(\u001b[0m\u001b[0me\u001b[0m\u001b[0;34m.\u001b[0m\u001b[0m__traceback__\u001b[0m\u001b[0;34m)\u001b[0m\u001b[0;34m\u001b[0m\u001b[0;34m\u001b[0m\u001b[0m\n",
            "\u001b[0;32m/usr/local/lib/python3.7/dist-packages/keras/engine/training.py\u001b[0m in \u001b[0;36mevaluate\u001b[0;34m(self, x, y, batch_size, verbose, sample_weight, steps, callbacks, max_queue_size, workers, use_multiprocessing, return_dict, **kwargs)\u001b[0m\n\u001b[1;32m   1714\u001b[0m             \u001b[0;32mwith\u001b[0m \u001b[0mtf\u001b[0m\u001b[0;34m.\u001b[0m\u001b[0mprofiler\u001b[0m\u001b[0;34m.\u001b[0m\u001b[0mexperimental\u001b[0m\u001b[0;34m.\u001b[0m\u001b[0mTrace\u001b[0m\u001b[0;34m(\u001b[0m\u001b[0;34m'test'\u001b[0m\u001b[0;34m,\u001b[0m \u001b[0mstep_num\u001b[0m\u001b[0;34m=\u001b[0m\u001b[0mstep\u001b[0m\u001b[0;34m,\u001b[0m \u001b[0m_r\u001b[0m\u001b[0;34m=\u001b[0m\u001b[0;36m1\u001b[0m\u001b[0;34m)\u001b[0m\u001b[0;34m:\u001b[0m\u001b[0;34m\u001b[0m\u001b[0;34m\u001b[0m\u001b[0m\n\u001b[1;32m   1715\u001b[0m               \u001b[0mcallbacks\u001b[0m\u001b[0;34m.\u001b[0m\u001b[0mon_test_batch_begin\u001b[0m\u001b[0;34m(\u001b[0m\u001b[0mstep\u001b[0m\u001b[0;34m)\u001b[0m\u001b[0;34m\u001b[0m\u001b[0;34m\u001b[0m\u001b[0m\n\u001b[0;32m-> 1716\u001b[0;31m               \u001b[0mtmp_logs\u001b[0m \u001b[0;34m=\u001b[0m \u001b[0mself\u001b[0m\u001b[0;34m.\u001b[0m\u001b[0mtest_function\u001b[0m\u001b[0;34m(\u001b[0m\u001b[0miterator\u001b[0m\u001b[0;34m)\u001b[0m\u001b[0;34m\u001b[0m\u001b[0;34m\u001b[0m\u001b[0m\n\u001b[0m\u001b[1;32m   1717\u001b[0m               \u001b[0;32mif\u001b[0m \u001b[0mdata_handler\u001b[0m\u001b[0;34m.\u001b[0m\u001b[0mshould_sync\u001b[0m\u001b[0;34m:\u001b[0m\u001b[0;34m\u001b[0m\u001b[0;34m\u001b[0m\u001b[0m\n\u001b[1;32m   1718\u001b[0m                 \u001b[0mcontext\u001b[0m\u001b[0;34m.\u001b[0m\u001b[0masync_wait\u001b[0m\u001b[0;34m(\u001b[0m\u001b[0;34m)\u001b[0m\u001b[0;34m\u001b[0m\u001b[0;34m\u001b[0m\u001b[0m\n",
            "\u001b[0;32m/usr/local/lib/python3.7/dist-packages/tensorflow/python/util/traceback_utils.py\u001b[0m in \u001b[0;36merror_handler\u001b[0;34m(*args, **kwargs)\u001b[0m\n\u001b[1;32m    148\u001b[0m     \u001b[0mfiltered_tb\u001b[0m \u001b[0;34m=\u001b[0m \u001b[0;32mNone\u001b[0m\u001b[0;34m\u001b[0m\u001b[0;34m\u001b[0m\u001b[0m\n\u001b[1;32m    149\u001b[0m     \u001b[0;32mtry\u001b[0m\u001b[0;34m:\u001b[0m\u001b[0;34m\u001b[0m\u001b[0;34m\u001b[0m\u001b[0m\n\u001b[0;32m--> 150\u001b[0;31m       \u001b[0;32mreturn\u001b[0m \u001b[0mfn\u001b[0m\u001b[0;34m(\u001b[0m\u001b[0;34m*\u001b[0m\u001b[0margs\u001b[0m\u001b[0;34m,\u001b[0m \u001b[0;34m**\u001b[0m\u001b[0mkwargs\u001b[0m\u001b[0;34m)\u001b[0m\u001b[0;34m\u001b[0m\u001b[0;34m\u001b[0m\u001b[0m\n\u001b[0m\u001b[1;32m    151\u001b[0m     \u001b[0;32mexcept\u001b[0m \u001b[0mException\u001b[0m \u001b[0;32mas\u001b[0m \u001b[0me\u001b[0m\u001b[0;34m:\u001b[0m\u001b[0;34m\u001b[0m\u001b[0;34m\u001b[0m\u001b[0m\n\u001b[1;32m    152\u001b[0m       \u001b[0mfiltered_tb\u001b[0m \u001b[0;34m=\u001b[0m \u001b[0m_process_traceback_frames\u001b[0m\u001b[0;34m(\u001b[0m\u001b[0me\u001b[0m\u001b[0;34m.\u001b[0m\u001b[0m__traceback__\u001b[0m\u001b[0;34m)\u001b[0m\u001b[0;34m\u001b[0m\u001b[0;34m\u001b[0m\u001b[0m\n",
            "\u001b[0;32m/usr/local/lib/python3.7/dist-packages/tensorflow/python/eager/def_function.py\u001b[0m in \u001b[0;36m__call__\u001b[0;34m(self, *args, **kwds)\u001b[0m\n\u001b[1;32m    913\u001b[0m \u001b[0;34m\u001b[0m\u001b[0m\n\u001b[1;32m    914\u001b[0m       \u001b[0;32mwith\u001b[0m \u001b[0mOptionalXlaContext\u001b[0m\u001b[0;34m(\u001b[0m\u001b[0mself\u001b[0m\u001b[0;34m.\u001b[0m\u001b[0m_jit_compile\u001b[0m\u001b[0;34m)\u001b[0m\u001b[0;34m:\u001b[0m\u001b[0;34m\u001b[0m\u001b[0;34m\u001b[0m\u001b[0m\n\u001b[0;32m--> 915\u001b[0;31m         \u001b[0mresult\u001b[0m \u001b[0;34m=\u001b[0m \u001b[0mself\u001b[0m\u001b[0;34m.\u001b[0m\u001b[0m_call\u001b[0m\u001b[0;34m(\u001b[0m\u001b[0;34m*\u001b[0m\u001b[0margs\u001b[0m\u001b[0;34m,\u001b[0m \u001b[0;34m**\u001b[0m\u001b[0mkwds\u001b[0m\u001b[0;34m)\u001b[0m\u001b[0;34m\u001b[0m\u001b[0;34m\u001b[0m\u001b[0m\n\u001b[0m\u001b[1;32m    916\u001b[0m \u001b[0;34m\u001b[0m\u001b[0m\n\u001b[1;32m    917\u001b[0m       \u001b[0mnew_tracing_count\u001b[0m \u001b[0;34m=\u001b[0m \u001b[0mself\u001b[0m\u001b[0;34m.\u001b[0m\u001b[0mexperimental_get_tracing_count\u001b[0m\u001b[0;34m(\u001b[0m\u001b[0;34m)\u001b[0m\u001b[0;34m\u001b[0m\u001b[0;34m\u001b[0m\u001b[0m\n",
            "\u001b[0;32m/usr/local/lib/python3.7/dist-packages/tensorflow/python/eager/def_function.py\u001b[0m in \u001b[0;36m_call\u001b[0;34m(self, *args, **kwds)\u001b[0m\n\u001b[1;32m    952\u001b[0m       \u001b[0;31m# In this case we have not created variables on the first call. So we can\u001b[0m\u001b[0;34m\u001b[0m\u001b[0;34m\u001b[0m\u001b[0;34m\u001b[0m\u001b[0m\n\u001b[1;32m    953\u001b[0m       \u001b[0;31m# run the first trace but we should fail if variables are created.\u001b[0m\u001b[0;34m\u001b[0m\u001b[0;34m\u001b[0m\u001b[0;34m\u001b[0m\u001b[0m\n\u001b[0;32m--> 954\u001b[0;31m       \u001b[0mresults\u001b[0m \u001b[0;34m=\u001b[0m \u001b[0mself\u001b[0m\u001b[0;34m.\u001b[0m\u001b[0m_stateful_fn\u001b[0m\u001b[0;34m(\u001b[0m\u001b[0;34m*\u001b[0m\u001b[0margs\u001b[0m\u001b[0;34m,\u001b[0m \u001b[0;34m**\u001b[0m\u001b[0mkwds\u001b[0m\u001b[0;34m)\u001b[0m\u001b[0;34m\u001b[0m\u001b[0;34m\u001b[0m\u001b[0m\n\u001b[0m\u001b[1;32m    955\u001b[0m       \u001b[0;32mif\u001b[0m \u001b[0mself\u001b[0m\u001b[0;34m.\u001b[0m\u001b[0m_created_variables\u001b[0m \u001b[0;32mand\u001b[0m \u001b[0;32mnot\u001b[0m \u001b[0mALLOW_DYNAMIC_VARIABLE_CREATION\u001b[0m\u001b[0;34m:\u001b[0m\u001b[0;34m\u001b[0m\u001b[0;34m\u001b[0m\u001b[0m\n\u001b[1;32m    956\u001b[0m         raise ValueError(\"Creating variables on a non-first call to a function\"\n",
            "\u001b[0;32m/usr/local/lib/python3.7/dist-packages/tensorflow/python/eager/function.py\u001b[0m in \u001b[0;36m__call__\u001b[0;34m(self, *args, **kwargs)\u001b[0m\n\u001b[1;32m   2955\u001b[0m        filtered_flat_args) = self._maybe_define_function(args, kwargs)\n\u001b[1;32m   2956\u001b[0m     return graph_function._call_flat(\n\u001b[0;32m-> 2957\u001b[0;31m         filtered_flat_args, captured_inputs=graph_function.captured_inputs)  # pylint: disable=protected-access\n\u001b[0m\u001b[1;32m   2958\u001b[0m \u001b[0;34m\u001b[0m\u001b[0m\n\u001b[1;32m   2959\u001b[0m   \u001b[0;34m@\u001b[0m\u001b[0mproperty\u001b[0m\u001b[0;34m\u001b[0m\u001b[0;34m\u001b[0m\u001b[0m\n",
            "\u001b[0;32m/usr/local/lib/python3.7/dist-packages/tensorflow/python/eager/function.py\u001b[0m in \u001b[0;36m_call_flat\u001b[0;34m(self, args, captured_inputs, cancellation_manager)\u001b[0m\n\u001b[1;32m   1852\u001b[0m       \u001b[0;31m# No tape is watching; skip to running the function.\u001b[0m\u001b[0;34m\u001b[0m\u001b[0;34m\u001b[0m\u001b[0;34m\u001b[0m\u001b[0m\n\u001b[1;32m   1853\u001b[0m       return self._build_call_outputs(self._inference_function.call(\n\u001b[0;32m-> 1854\u001b[0;31m           ctx, args, cancellation_manager=cancellation_manager))\n\u001b[0m\u001b[1;32m   1855\u001b[0m     forward_backward = self._select_forward_and_backward_functions(\n\u001b[1;32m   1856\u001b[0m         \u001b[0margs\u001b[0m\u001b[0;34m,\u001b[0m\u001b[0;34m\u001b[0m\u001b[0;34m\u001b[0m\u001b[0m\n",
            "\u001b[0;32m/usr/local/lib/python3.7/dist-packages/tensorflow/python/eager/function.py\u001b[0m in \u001b[0;36mcall\u001b[0;34m(self, ctx, args, cancellation_manager)\u001b[0m\n\u001b[1;32m    502\u001b[0m               \u001b[0minputs\u001b[0m\u001b[0;34m=\u001b[0m\u001b[0margs\u001b[0m\u001b[0;34m,\u001b[0m\u001b[0;34m\u001b[0m\u001b[0;34m\u001b[0m\u001b[0m\n\u001b[1;32m    503\u001b[0m               \u001b[0mattrs\u001b[0m\u001b[0;34m=\u001b[0m\u001b[0mattrs\u001b[0m\u001b[0;34m,\u001b[0m\u001b[0;34m\u001b[0m\u001b[0;34m\u001b[0m\u001b[0m\n\u001b[0;32m--> 504\u001b[0;31m               ctx=ctx)\n\u001b[0m\u001b[1;32m    505\u001b[0m         \u001b[0;32melse\u001b[0m\u001b[0;34m:\u001b[0m\u001b[0;34m\u001b[0m\u001b[0;34m\u001b[0m\u001b[0m\n\u001b[1;32m    506\u001b[0m           outputs = execute.execute_with_cancellation(\n",
            "\u001b[0;32m/usr/local/lib/python3.7/dist-packages/tensorflow/python/eager/execute.py\u001b[0m in \u001b[0;36mquick_execute\u001b[0;34m(op_name, num_outputs, inputs, attrs, ctx, name)\u001b[0m\n\u001b[1;32m     53\u001b[0m     \u001b[0mctx\u001b[0m\u001b[0;34m.\u001b[0m\u001b[0mensure_initialized\u001b[0m\u001b[0;34m(\u001b[0m\u001b[0;34m)\u001b[0m\u001b[0;34m\u001b[0m\u001b[0;34m\u001b[0m\u001b[0m\n\u001b[1;32m     54\u001b[0m     tensors = pywrap_tfe.TFE_Py_Execute(ctx._handle, device_name, op_name,\n\u001b[0;32m---> 55\u001b[0;31m                                         inputs, attrs, num_outputs)\n\u001b[0m\u001b[1;32m     56\u001b[0m   \u001b[0;32mexcept\u001b[0m \u001b[0mcore\u001b[0m\u001b[0;34m.\u001b[0m\u001b[0m_NotOkStatusException\u001b[0m \u001b[0;32mas\u001b[0m \u001b[0me\u001b[0m\u001b[0;34m:\u001b[0m\u001b[0;34m\u001b[0m\u001b[0;34m\u001b[0m\u001b[0m\n\u001b[1;32m     57\u001b[0m     \u001b[0;32mif\u001b[0m \u001b[0mname\u001b[0m \u001b[0;32mis\u001b[0m \u001b[0;32mnot\u001b[0m \u001b[0;32mNone\u001b[0m\u001b[0;34m:\u001b[0m\u001b[0;34m\u001b[0m\u001b[0;34m\u001b[0m\u001b[0m\n",
            "\u001b[0;31mKeyboardInterrupt\u001b[0m: "
          ]
        }
      ]
    },
    {
      "cell_type": "code",
      "source": [
        "wide_lstm_window.plot(lstm_model)"
      ],
      "metadata": {
        "id": "Nyy-qqxLgQM6"
      },
      "execution_count": null,
      "outputs": []
    },
    {
      "cell_type": "code",
      "source": [
        ""
      ],
      "metadata": {
        "id": "z4mvh7OCxAUQ"
      },
      "execution_count": null,
      "outputs": []
    },
    {
      "cell_type": "markdown",
      "source": [
        "# Old implementation."
      ],
      "metadata": {
        "id": "iBwdNqVWgCc6"
      }
    },
    {
      "cell_type": "code",
      "source": [
        "print(\"Wide window\")\n",
        "print('Input shape:', wide_window.example[0].shape)\n",
        "print('Labels shape:', wide_window.example[1].shape)\n",
        "print('Output shape:', conv_model(wide_window.example[0]).shape)"
      ],
      "metadata": {
        "id": "1JeYy5XSr_qX"
      },
      "execution_count": null,
      "outputs": []
    },
    {
      "cell_type": "code",
      "source": [
        "# Plotting the simulation scaled\n",
        "plot_series(t_scaled, v_scaled, title=\"Stimulation serie\", figure=1)\n",
        "plot_series(t_scaled, simulationVm, title=\"Simulation response serie\", figure=2)"
      ],
      "metadata": {
        "id": "4JQFJcPsyroI"
      },
      "execution_count": null,
      "outputs": []
    },
    {
      "cell_type": "markdown",
      "source": [
        "## First attempt: LSTM univariate.\n",
        "- Epochs: 100.\n",
        "- window_size = 30.\n",
        "- Using a fixed learning rate.\n",
        "- Gradient descend."
      ],
      "metadata": {
        "id": "fIT_BgjFFxqu"
      }
    },
    {
      "cell_type": "code",
      "metadata": {
        "id": "Yqc2GTsps0qf"
      },
      "source": [
        "start_time = time.time()\n",
        "tf.keras.backend.clear_session()\n",
        "tf.random.set_seed(51)\n",
        "np.random.seed(51)\n",
        "\n",
        "window_size = 30\n",
        "train_set = windowed_dataset(x_train, window_size, batch_size=128, shuffle_buffer=shuffle_buffer_size)\n",
        "\n",
        "model = tf.keras.models.Sequential([\n",
        "  tf.keras.layers.Conv1D(filters=32, kernel_size=5,\n",
        "                      strides=1, padding=\"causal\",\n",
        "                      activation=\"relu\",\n",
        "                      input_shape=[None, 2]),\n",
        "  tf.keras.layers.Bidirectional(tf.keras.layers.LSTM(32, return_sequences=True)),\n",
        "  tf.keras.layers.Bidirectional(tf.keras.layers.LSTM(32, return_sequences=True)),\n",
        "  tf.keras.layers.Dense(1),\n",
        "  tf.keras.layers.Lambda(lambda x: x * 200)\n",
        "])\n",
        "lr_schedule = tf.keras.callbacks.LearningRateScheduler(\n",
        "    lambda epoch: 1e-8 * 10**(epoch / 20))\n",
        "optimizer = tf.keras.optimizers.SGD(learning_rate=1e-8, momentum=0.9)\n",
        "model.compile(loss=tf.keras.losses.Huber(),\n",
        "              optimizer=optimizer,\n",
        "              metrics=[\"mae\"])\n",
        "history = model.fit(train_set, epochs=100, callbacks=[lr_schedule])\n",
        "one_hundred_epochs_trainingtime_taken = time.time()-start_time"
      ],
      "execution_count": null,
      "outputs": []
    },
    {
      "cell_type": "code",
      "metadata": {
        "id": "MjTvASUns0qh"
      },
      "source": [
        "plt.semilogx(history.history[\"lr\"], history.history[\"loss\"])\n",
        "plt.axis([1e-8, 1e-4, 0, 50])"
      ],
      "execution_count": null,
      "outputs": []
    },
    {
      "cell_type": "code",
      "source": [
        "import time\n",
        "start = time.time()\n",
        "rnn_forecast = model_forecast(model, simulationVm[..., np.newaxis], window_size)\n",
        "rnn_forecast = rnn_forecast[split_time - window_size:-1, -1, 0]\n",
        "total= time.time() - start\n",
        "print(f\"series size: {simulationVm.size}\")\n",
        "print(f\"Time elapsed: {total}s\")\n",
        "plt.figure(figsize=(10, 6))\n",
        "plot_series(time_valid, x_valid[:,-1])\n",
        "plot_series(time_valid, rnn_forecast)"
      ],
      "metadata": {
        "id": "yK5SC79nGJkZ"
      },
      "execution_count": null,
      "outputs": []
    },
    {
      "cell_type": "code",
      "metadata": {
        "id": "4uh-97bpLZCA"
      },
      "source": [
        "start_time = time.time()\n",
        "tf.keras.backend.clear_session()\n",
        "tf.random.set_seed(51)\n",
        "np.random.seed(51)\n",
        "#batch_size = 16\n",
        "dataset = windowed_dataset(x_train, window_size, batch_size, shuffle_buffer_size)\n",
        "\n",
        "model = tf.keras.models.Sequential([\n",
        "  tf.keras.layers.Conv1D(filters=32, kernel_size=3,\n",
        "                      strides=1, padding=\"causal\",\n",
        "                      activation=\"softmax\",\n",
        "                      input_shape=[None, 2]),\n",
        "  tf.keras.layers.LSTM(32, return_sequences=True),\n",
        "  tf.keras.layers.LSTM(32, return_sequences=True),\n",
        "  tf.keras.layers.Dense(1),\n",
        "  tf.keras.layers.Lambda(lambda x: x * 200)\n",
        "])\n",
        "\n",
        "optimizer = tf.keras.optimizers.SGD(learning_rate=1e-5, momentum=0.9)\n",
        "model.compile(loss=tf.keras.losses.Huber(),\n",
        "              optimizer=optimizer,\n",
        "              metrics=[\"mae\"])\n",
        "history = model.fit(dataset,epochs=500)\n",
        "five_hundred_epochs_trainingtime_taken = time.time()-start_time"
      ],
      "execution_count": null,
      "outputs": []
    },
    {
      "cell_type": "code",
      "metadata": {
        "id": "4N1toSetdnQq"
      },
      "source": [
        "import time\n",
        "start = time.time()\n",
        "rnn_forecast = model_forecast(model, simulationVm[..., np.newaxis], window_size)\n",
        "rnn_forecast = rnn_forecast[split_time - window_size:-1, -1, 0]\n",
        "total= time.time() - start\n",
        "print(f\"series size: {simulationVm.size}\")\n",
        "print(f\"Time elapsed: {total}s\")\n",
        "plt.figure(figsize=(10, 6))\n",
        "plot_series(time_valid, x_valid[:,-1])\n",
        "plot_series(time_valid, rnn_forecast)\n",
        "print(f\"valid: \",x_valid[0:100])\n",
        "print(f\"forecast: \", rnn_forecast[0:100])\n",
        "# Será que la convolución qye hace al principio pordría disminuir el tamaño de mis samplings ?"
      ],
      "execution_count": null,
      "outputs": []
    },
    {
      "cell_type": "code",
      "metadata": {
        "id": "ULKO3JINdqkp"
      },
      "source": [
        "tf.keras.metrics.mean_absolute_error(x_valid, rnn_forecast).numpy()"
      ],
      "execution_count": null,
      "outputs": []
    },
    {
      "cell_type": "code",
      "metadata": {
        "id": "ok8LjNbbkig4"
      },
      "source": [
        "import matplotlib.image  as mpimg\n",
        "import matplotlib.pyplot as plt\n",
        "\n",
        "#-----------------------------------------------------------\n",
        "# Retrieve a list of list results on training and test data\n",
        "# sets for each training epoch\n",
        "#-----------------------------------------------------------\n",
        "mae=history.history['mae']\n",
        "loss=history.history['loss']\n",
        "\n",
        "epochs=range(len(loss)) # Get number of epochs\n",
        "\n",
        "#------------------------------------------------\n",
        "# Plot MAE and Loss\n",
        "#------------------------------------------------\n",
        "plt.plot(epochs, mae, 'r')\n",
        "plt.plot(epochs, loss, 'b')\n",
        "plt.title('MAE and Loss')\n",
        "plt.xlabel(\"Epochs\")\n",
        "plt.ylabel(\"Accuracy\")\n",
        "plt.legend([\"MAE\", \"Loss\"])\n",
        "\n",
        "plt.figure()\n",
        "\n",
        "epochs_zoom = epochs[200:]\n",
        "mae_zoom = mae[200:]\n",
        "loss_zoom = loss[200:]\n",
        "\n",
        "#------------------------------------------------\n",
        "# Plot Zoomed MAE and Loss\n",
        "#------------------------------------------------\n",
        "plt.plot(epochs_zoom, mae_zoom, 'r')\n",
        "plt.plot(epochs_zoom, loss_zoom, 'b')\n",
        "plt.title('MAE and Loss')\n",
        "plt.xlabel(\"Epochs\")\n",
        "plt.ylabel(\"Accuracy\")\n",
        "plt.legend([\"MAE\", \"Loss\"])\n",
        "\n",
        "plt.figure()"
      ],
      "execution_count": null,
      "outputs": []
    }
  ]
}